{
  "cells": [
    {
      "cell_type": "code",
      "execution_count": null,
      "metadata": {
        "colab": {
          "base_uri": "https://localhost:8080/"
        },
        "id": "KZLlmncW8jrf",
        "outputId": "edeaf91a-6865-4ebc-9311-8eb963ed7c4b"
      },
      "outputs": [
        {
          "output_type": "stream",
          "name": "stdout",
          "text": [
            "Mounted at /content/gdrive\n"
          ]
        }
      ],
      "source": [
        "from google.colab import drive\n",
        "drive.mount('/content/gdrive', force_remount=True)"
      ]
    },
    {
      "cell_type": "code",
      "execution_count": null,
      "metadata": {
        "colab": {
          "base_uri": "https://localhost:8080/"
        },
        "id": "UoDEZkcD8pHo",
        "outputId": "eadf4f95-8aad-41f2-eae9-2b4dea690988"
      },
      "outputs": [
        {
          "output_type": "stream",
          "name": "stdout",
          "text": [
            "Collecting elasticdeform\n",
            "  Downloading elasticdeform-0.5.0-cp310-cp310-manylinux_2_17_x86_64.manylinux2014_x86_64.whl (91 kB)\n",
            "\u001b[?25l     \u001b[90m━━━━━━━━━━━━━━━━━━━━━━━━━━━━━━━━━━━━━━━━\u001b[0m \u001b[32m0.0/91.6 kB\u001b[0m \u001b[31m?\u001b[0m eta \u001b[36m-:--:--\u001b[0m\r\u001b[2K     \u001b[91m━━━━━━━━━━━━━━━━━━━━━━━━━━━━━━━━━━━\u001b[0m\u001b[91m╸\u001b[0m\u001b[90m━━━━\u001b[0m \u001b[32m81.9/91.6 kB\u001b[0m \u001b[31m2.3 MB/s\u001b[0m eta \u001b[36m0:00:01\u001b[0m\r\u001b[2K     \u001b[90m━━━━━━━━━━━━━━━━━━━━━━━━━━━━━━━━━━━━━━━━\u001b[0m \u001b[32m91.6/91.6 kB\u001b[0m \u001b[31m2.2 MB/s\u001b[0m eta \u001b[36m0:00:00\u001b[0m\n",
            "\u001b[?25hRequirement already satisfied: numpy in /usr/local/lib/python3.10/dist-packages (from elasticdeform) (1.22.4)\n",
            "Requirement already satisfied: scipy in /usr/local/lib/python3.10/dist-packages (from elasticdeform) (1.10.1)\n",
            "Installing collected packages: elasticdeform\n",
            "Successfully installed elasticdeform-0.5.0\n",
            "/content/gdrive/MyDrive/FoodSeg103/Images/img_dir/train\n",
            "/content/gdrive/MyDrive/FoodSeg103/Images/img_dir/test\n",
            "/content/gdrive/MyDrive/FoodSeg103/Images/img_dir/test/00000048.jpg\n",
            "/content/gdrive/MyDrive/FoodSeg103/Images/ann_dir/test/00000048.png\n",
            "/content/gdrive/MyDrive/FoodSeg103/Images/img_dir/test/00000263.jpg\n",
            "/content/gdrive/MyDrive/FoodSeg103/Images/ann_dir/test/00000263.png\n",
            "/content/gdrive/MyDrive/FoodSeg103/Images/img_dir/test/00001977.jpg\n",
            "/content/gdrive/MyDrive/FoodSeg103/Images/ann_dir/test/00001977.png\n",
            "/content/gdrive/MyDrive/FoodSeg103/Images/img_dir/test/00002106.jpg\n",
            "/content/gdrive/MyDrive/FoodSeg103/Images/ann_dir/test/00002106.png\n",
            "/content/gdrive/MyDrive/FoodSeg103/Images/ann_dir/test/00004401.png\n",
            "/content/gdrive/MyDrive/FoodSeg103/Images/img_dir/test/00004401.jpg\n",
            "/content/gdrive/MyDrive/FoodSeg103/Images/ann_dir/test/00004402.png\n",
            "/content/gdrive/MyDrive/FoodSeg103/Images/img_dir/test/00004402.jpg\n",
            "/content/gdrive/MyDrive/FoodSeg103/Images/ann_dir/test/00004403.png\n",
            "/content/gdrive/MyDrive/FoodSeg103/Images/img_dir/test/00004403.jpg\n",
            "/content/gdrive/MyDrive/FoodSeg103/Images/ann_dir/test/00004404.png\n",
            "/content/gdrive/MyDrive/FoodSeg103/Images/ann_dir/test/00004405.png\n",
            "/content/gdrive/MyDrive/FoodSeg103/Images/img_dir/test/00004404.jpg\n",
            "/content/gdrive/MyDrive/FoodSeg103/Images/ann_dir/test/00004406.png\n",
            "/content/gdrive/MyDrive/FoodSeg103/Images/img_dir/test/00004405.jpg\n",
            "/content/gdrive/MyDrive/FoodSeg103/Images/ann_dir/test/00004407.png\n",
            "/content/gdrive/MyDrive/FoodSeg103/Images/img_dir/test/00004406.jpg\n",
            "/content/gdrive/MyDrive/FoodSeg103/Images/ann_dir/test/00004408.png\n",
            "/content/gdrive/MyDrive/FoodSeg103/Images/img_dir/test/00004407.jpg\n",
            "/content/gdrive/MyDrive/FoodSeg103/Images/ann_dir/test/00004409.png\n",
            "/content/gdrive/MyDrive/FoodSeg103/Images/img_dir/test/00004408.jpg\n",
            "/content/gdrive/MyDrive/FoodSeg103/Images/ann_dir/test/00004410.png\n",
            "/content/gdrive/MyDrive/FoodSeg103/Images/img_dir/test/00004409.jpg\n",
            "/content/gdrive/MyDrive/FoodSeg103/Images/ann_dir/test/00004411.png\n",
            "/content/gdrive/MyDrive/FoodSeg103/Images/img_dir/test/00004410.jpg\n",
            "/content/gdrive/MyDrive/FoodSeg103/Images/ann_dir/test/00004412.png/content/gdrive/MyDrive/FoodSeg103/Images/img_dir/test/00004411.jpg\n",
            "\n",
            "/content/gdrive/MyDrive/FoodSeg103/Images/ann_dir/test/00004413.png\n",
            "/content/gdrive/MyDrive/FoodSeg103/Images/img_dir/test/00004412.jpg\n",
            "/content/gdrive/MyDrive/FoodSeg103/Images/ann_dir/test/00004414.png\n",
            "/content/gdrive/MyDrive/FoodSeg103/Images/img_dir/test/00004413.jpg\n",
            "/content/gdrive/MyDrive/FoodSeg103/Images/img_dir/test/00004414.jpg\n",
            "/content/gdrive/MyDrive/FoodSeg103/Images/img_dir/train/00000000.jpg\n",
            "/content/gdrive/MyDrive/FoodSeg103/Images/ann_dir/train/00000000.png\n",
            "/content/gdrive/MyDrive/FoodSeg103/Images/img_dir/train/00000001.jpg\n",
            "/content/gdrive/MyDrive/FoodSeg103/Images/img_dir/train/00000002.jpg\n",
            "/content/gdrive/MyDrive/FoodSeg103/Images/ann_dir/train/00000001.png\n",
            "/content/gdrive/MyDrive/FoodSeg103/Images/img_dir/train/00000003.jpg\n",
            "/content/gdrive/MyDrive/FoodSeg103/Images/ann_dir/train/00000002.png\n",
            "/content/gdrive/MyDrive/FoodSeg103/Images/img_dir/train/00000004.jpg\n",
            "/content/gdrive/MyDrive/FoodSeg103/Images/ann_dir/train/00000003.png\n",
            "/content/gdrive/MyDrive/FoodSeg103/Images/img_dir/train/00000005.jpg\n",
            "/content/gdrive/MyDrive/FoodSeg103/Images/ann_dir/train/00000004.png\n",
            "/content/gdrive/MyDrive/FoodSeg103/Images/img_dir/train/00000006.jpg\n",
            "/content/gdrive/MyDrive/FoodSeg103/Images/ann_dir/train/00000005.png\n",
            "/content/gdrive/MyDrive/FoodSeg103/Images/img_dir/train/00000007.jpg\n",
            "/content/gdrive/MyDrive/FoodSeg103/Images/ann_dir/train/00000006.png\n",
            "/content/gdrive/MyDrive/FoodSeg103/Images/ann_dir/train/00000007.png/content/gdrive/MyDrive/FoodSeg103/Images/img_dir/train/00000008.jpg\n",
            "\n",
            "/content/gdrive/MyDrive/FoodSeg103/Images/ann_dir/train/00000008.png\n",
            "/content/gdrive/MyDrive/FoodSeg103/Images/img_dir/train/00000009.jpg\n",
            "/content/gdrive/MyDrive/FoodSeg103/Images/img_dir/train/00000010.jpg\n",
            "/content/gdrive/MyDrive/FoodSeg103/Images/ann_dir/train/00000009.png\n",
            "/content/gdrive/MyDrive/FoodSeg103/Images/ann_dir/train/00000010.png\n",
            "/content/gdrive/MyDrive/FoodSeg103/Images/img_dir/train/00000011.jpg\n",
            "/content/gdrive/MyDrive/FoodSeg103/Images/ann_dir/train/00000011.png\n",
            "/content/gdrive/MyDrive/FoodSeg103/Images/ann_dir/train/00000012.png\n",
            "/content/gdrive/MyDrive/FoodSeg103/Images/ann_dir/train/00000013.png\n",
            "/content/gdrive/MyDrive/FoodSeg103/Images/img_dir/train/00000012.jpg\n",
            "/content/gdrive/MyDrive/FoodSeg103/Images/ann_dir/train/00000014.png\n",
            "/content/gdrive/MyDrive/FoodSeg103/Images/img_dir/train/00000013.jpg\n",
            "/content/gdrive/MyDrive/FoodSeg103/Images/ann_dir/train/00000015.png\n",
            "/content/gdrive/MyDrive/FoodSeg103/Images/ann_dir/train/00000016.png\n",
            "/content/gdrive/MyDrive/FoodSeg103/Images/img_dir/train/00000014.jpg\n",
            "/content/gdrive/MyDrive/FoodSeg103/Images/ann_dir/train/00000017.png\n",
            "/content/gdrive/MyDrive/FoodSeg103/Images/img_dir/train/00000015.jpg\n",
            "/content/gdrive/MyDrive/FoodSeg103/Images/img_dir/train/00000016.jpg\n",
            "/content/gdrive/MyDrive/FoodSeg103/Images/img_dir/train/00000017.jpg\n"
          ]
        }
      ],
      "source": [
        "import os\n",
        "\n",
        "#os.environ['CUDA_LAUNCH_BLOCKING'] = '1'\n",
        "\n",
        "\n",
        "import torch, torchvision\n",
        "from torch import nn\n",
        "from pathlib import Path\n",
        "from torchvision import datasets\n",
        "import torchvision.transforms as transforms\n",
        "from torchvision.transforms import RandomCrop, RandomHorizontalFlip, RandomRotation\n",
        "from torch.utils.data import Dataset, DataLoader\n",
        "import matplotlib.pyplot as plt\n",
        "from timeit import default_timer as timer\n",
        "from tqdm import tqdm\n",
        "from typing import List, Tuple, Dict\n",
        "from skimage import io, transform, color\n",
        "from torchvision.transforms import functional as F\n",
        "\n",
        "!pip install elasticdeform\n",
        "import elasticdeform\n",
        "\n",
        "import random\n",
        "\n",
        "import cv2\n",
        "\n",
        "from PIL import Image\n",
        "\n",
        "import numpy as np\n",
        "\n",
        "import multiprocessing as mp\n",
        "\n",
        "\n",
        "#### To unlock to check the integrity of the dataset. Are there differences between images and masks?\n",
        "\"\"\"\n",
        "def checkDataset(img_path, mask_path):\n",
        "  file_set1 = set()\n",
        "  for dirpath, dirnames, filenames in os.walk(img_path):\n",
        "    for filename in filenames:\n",
        "      file_name, file_extension = os.path.splitext(filename)\n",
        "      file_set1.add(file_name)\n",
        "\n",
        "  file_set2 = set()\n",
        "  for dirpath, dirnames, filenames in os.walk(mask_path):\n",
        "    for filename in filenames:\n",
        "      file_name, file_extension = os.path.splitext(filename)\n",
        "      file_set2.add(file_name)\n",
        "\n",
        "  # compare the sets of file names\n",
        "  unique_to_folder1 = file_set1 - file_set2\n",
        "  unique_to_folder2 = file_set2 - file_set1\n",
        "\n",
        "\n",
        "  # print the results\n",
        "  print(\"Files unique to folder 1:\", unique_to_folder1)\n",
        "  print(\"Files unique to folder 2:\", unique_to_folder2)\n",
        "\n",
        "\"\"\"\n",
        "\n",
        "\n",
        "# Set device\n",
        "device = \"cuda\" if torch.cuda.is_available() else \"cpu\"\n",
        "\n",
        "\n",
        "def walk_through_dir(dir_path):\n",
        "  for dirpath, dirnames, filenames in os.walk(dir_path):\n",
        "    print(f\"There are {len(dirnames)} directories and {len(filenames)} images in '{dirpath}'.\")\n",
        "\n",
        "data_path = Path(\"/content/gdrive/MyDrive/FoodSeg103/Images/\")\n",
        "\n",
        "img_dir = data_path / \"img_dir\"\n",
        "ann_dir = data_path / \"ann_dir\"\n",
        "\n",
        "\n",
        "# RandomCustomCrop\n",
        "class RandomCustomCrop(object):\n",
        "\n",
        "    def __init__(self, output_size):\n",
        "        assert isinstance(output_size, (int, tuple))\n",
        "        if isinstance(output_size, int):\n",
        "            self.output_size = (output_size, output_size)\n",
        "        else:\n",
        "            assert len(output_size) == 2\n",
        "            self.output_size = output_size\n",
        "\n",
        "    def __call__(self, sample):\n",
        "\n",
        "        img, mask = sample['image'], sample['mask']\n",
        "\n",
        "        w = img.shape[0]\n",
        "        h = img.shape[1]\n",
        "\n",
        "        #print(\"w\", w)\n",
        "        #print(\"h\", h)\n",
        "\n",
        "        # New crop size passed in the constructor\n",
        "        new_w, new_h = self.output_size\n",
        "\n",
        "        if h == new_h and w == new_w:\n",
        "            return sample\n",
        "\n",
        "        if w < new_w or h < new_h:\n",
        "            raise ValueError(\"Input image size is smaller than the desired crop size\")\n",
        "         #   #return sample\n",
        "\n",
        "        x1 = random.randint(0, w - new_w)\n",
        "        y1 = random.randint(0, h - new_h)\n",
        "\n",
        "        # Convert to PIL Image\n",
        "        img = Image.fromarray(img)\n",
        "        mask = Image.fromarray(mask)\n",
        "\n",
        "        # Crop img and mask\n",
        "        img = F.crop(img, y1, x1, new_h, new_w)\n",
        "        mask = F.crop(mask, y1, x1, new_h, new_w)\n",
        "\n",
        "        # PIL to numpy array\n",
        "        img = np.array(img)\n",
        "        mask = np.array(mask)\n",
        "\n",
        "        return {'image': img, 'mask': mask}\n",
        "\n",
        "\n",
        "# RandomCustomRotation\n",
        "class RandomCustomRotation(object):\n",
        "\n",
        "\n",
        "    def __init__(self, degrees):\n",
        "        self.degrees = degrees\n",
        "\n",
        "    def __call__(self, sample):\n",
        "\n",
        "        img, mask = sample['image'], sample['mask']\n",
        "\n",
        "        angle = random.uniform(self.degrees[0], self.degrees[1])\n",
        "\n",
        "        # Convert to PIL Image\n",
        "        img = Image.fromarray(img)\n",
        "        mask = Image.fromarray(mask)\n",
        "\n",
        "        # Rotation\n",
        "        img = F.rotate(img, angle)\n",
        "        mask = F.rotate(mask, angle)\n",
        "\n",
        "        # PIL to numpy array\n",
        "        img = np.array(img)\n",
        "        mask = np.array(mask)\n",
        "\n",
        "        return {'image': img, 'mask': mask}\n",
        "\n",
        "\n",
        "# RandomCustomHorizontalFlip\n",
        "class RandomCustomHorizontalFlip(object):\n",
        "    def __init__(self, p=0.5):\n",
        "        self.p = p\n",
        "\n",
        "    def __call__(self, sample):\n",
        "        img, mask = sample['image'], sample['mask']\n",
        "\n",
        "        #print(\"img s\", img.shape)\n",
        "        #print(\"mask s\", mask.shape)\n",
        "\n",
        "        if random.random() < self.p:\n",
        "\n",
        "            # Transformation to tensors\n",
        "            img = torch.from_numpy(img).float()\n",
        "            mask = torch.from_numpy(mask).float()\n",
        "\n",
        "            img = torch.flip(img, dims=[1])\n",
        "            mask = torch.flip(mask, dims=[1])\n",
        "\n",
        "            # Transform back\n",
        "            img = img.numpy()\n",
        "            mask = mask.numpy()\n",
        "\n",
        "        return {'image': img, 'mask': mask}\n",
        "\n",
        "\n",
        "# RandomCustomVerticalFlip\n",
        "class RandomCustomVerticalFlip(object):\n",
        "    def __init__(self, p=0.5):\n",
        "        self.p = p\n",
        "\n",
        "    def __call__(self, sample):\n",
        "        img, mask = sample['image'], sample['mask']\n",
        "\n",
        "        #print(\"img s\", img.shape)\n",
        "        #print(\"mask s\", mask.shape)\n",
        "\n",
        "        if random.random() < self.p:\n",
        "\n",
        "            # Transformation to tensors\n",
        "            img = torch.from_numpy(img).float()\n",
        "            mask = torch.from_numpy(mask).float()\n",
        "\n",
        "            img = torch.flip(img, dims=[0])\n",
        "            mask = torch.flip(mask, dims=[0])\n",
        "\n",
        "            # Transform back\n",
        "            img = img.numpy()\n",
        "            mask = mask.numpy()\n",
        "\n",
        "        return {'image': img, 'mask': mask}\n",
        "\n",
        "\n",
        "\n",
        "class RandomGaussianNoise(object):\n",
        "    def __init__(self, mean=0.0, std=0.1):\n",
        "      self.mean = mean\n",
        "      self.std  = std\n",
        "\n",
        "    def __call__(self, img):\n",
        "\n",
        "      # Generate Gaussian noise with mean 0 and standard deviation 10 for each color channel\n",
        "      noise = np.random.normal(0, 1, img.shape)\n",
        "\n",
        "      # Scale the noise by a small factor (e.g., 0.05) to add a light layer of noise\n",
        "      scaled_noise = 0.1 * noise\n",
        "\n",
        "      # Add the noise to each color channel of the image\n",
        "      noisy_img = np.clip(img.astype(np.int16) + scaled_noise, 0, 255).astype(np.uint8)\n",
        "\n",
        "      img = noisy_img\n",
        "\n",
        "      # Transform back\n",
        "      #img = img.numpy()\n",
        "\n",
        "\n",
        "      return img\n",
        "\n",
        "\n",
        "# ElasticDeform\n",
        "class ElasticDeform(object):\n",
        "    def __init__(self, sigma, alpha):\n",
        "        self.sigma = sigma\n",
        "        self.alpha = alpha\n",
        "\n",
        "    def __call__(self, sample):\n",
        "        img, mask = sample['image'], sample['mask']\n",
        "\n",
        "        #print(img.shape)\n",
        "        #print(mask.shape)\n",
        "\n",
        "        # We add a dimension at the end\n",
        "        mask = np.expand_dims(mask, axis=-1)\n",
        "\n",
        "\n",
        "\n",
        "        # Ensure that the input image is a 3D array with shape (height, width, channels)\n",
        "        assert img.ndim == 3 and img.shape[2] == 3, \"Input image must be a 3D RGB array with shape (height, width, 3)\"\n",
        "\n",
        "        # Ensure that the mask is a 3D array with shape (height, width, 1)\n",
        "        assert mask.ndim == 3 and mask.shape[2] == 1, \"Mask must be a 3D array with shape (height, width, 1)\"\n",
        "\n",
        "        # Reshape the input image into a 2D array with shape (height * width, channels)\n",
        "        height, width, channels = img.shape\n",
        "        flattened_img = img.reshape(-1)\n",
        "\n",
        "        mask_rgb = np.repeat(mask, 3, axis=-1)\n",
        "        flattened_mask = mask_rgb.reshape(-1)\n",
        "\n",
        "\n",
        "        # Generate a random displacement field along the width and height dimensions\n",
        "        #displacement = np.random.randn(2, height, width) * self.sigma\n",
        "\n",
        "        # Combine images and masks into a single 3D array\n",
        "        combined = np.concatenate((flattened_img, flattened_mask), axis=-1)\n",
        "\n",
        "        # Apply deformation to combined array\n",
        "        deformed_combined = elasticdeform.deform_random_grid(combined,\n",
        "                                                     sigma=self.sigma,\n",
        "                                                     order=3,\n",
        "                                                     mode='nearest'\n",
        "                                                     )\n",
        "\n",
        "        # Split deformed array back into images and masks\n",
        "        deformed_reshaped_img = deformed_combined[:height*width*channels].reshape((height, width, channels))\n",
        "        deformed_reshaped_mask = deformed_combined[height*width*channels:].reshape((height, width, channels))\n",
        "\n",
        "        #Convert mask to grayscale\n",
        "        deformed_reshaped_mask = np.mean(deformed_reshaped_mask, axis=-1)\n",
        "        deformed_reshaped_mask = np.expand_dims(deformed_reshaped_mask, axis=-1)\n",
        "\n",
        "        #deformed_mask = np.squeeze(deformed_reshaped_mask, axis=-1)\n",
        "\n",
        "        deformed_img = deformed_reshaped_img\n",
        "        deformed_mask = deformed_reshaped_mask\n",
        "\n",
        "        print(\"deformed_img\", deformed_img.shape)\n",
        "        print(\"deformed_mask\", deformed_mask.shape)\n",
        "\n",
        "        return {'image': deformed_img, 'mask': deformed_mask}\n",
        "\n",
        "\n",
        "\n",
        "\n",
        "class CustomToTensor(object):\n",
        "    #Convert ndarrays in sample to Tensors.\n",
        "\n",
        "\n",
        "    def __new__(self, sample):\n",
        "        img, mask = sample['image'], sample['mask']\n",
        "\n",
        "        mask = np.expand_dims(mask, axis=-1)\n",
        "\n",
        "        # swap color axis because\n",
        "        # numpy image: H x W x C\n",
        "        # torch image: C x H x W\n",
        "        img = img.transpose((2, 0, 1))\n",
        "        mask = mask.transpose((2, 0, 1))\n",
        "\n",
        "        return {'image': torch.from_numpy(img).float(),\n",
        "                'mask': torch.from_numpy(mask).float()}\n",
        "\n",
        "\n",
        "class UnNormalize(object):\n",
        "    def __init__(self, mean, std):\n",
        "        self.mean = mean\n",
        "        self.std = std\n",
        "\n",
        "    def __call__(self, tensor):\n",
        "        \"\"\"\n",
        "        Args:\n",
        "            tensor (Tensor): Tensor image of size (C, H, W) to be normalized.\n",
        "        Returns:\n",
        "            Tensor: Normalized image.\n",
        "        \"\"\"\n",
        "        for t, m, s in zip(tensor, self.mean, self.std):\n",
        "            t.mul_(s).add_(m)\n",
        "            # The normalize code -> t.sub_(m).div_(s)\n",
        "        return tensor\n",
        "\n",
        "\n",
        "# Class SegIngredientDataset\n",
        "class SegIngredientsDataset(Dataset):\n",
        "\n",
        "    def __init__(self, img_dir, mask_dir, path, img_transform, mask_transform, common_transform, eval):\n",
        "\n",
        "        self.eval = eval\n",
        "\n",
        "        self.img_dir = img_dir / path\n",
        "        self.mask_dir = mask_dir / path\n",
        "\n",
        "        self.img_transform = img_transform\n",
        "        self.mask_transform = mask_transform\n",
        "        self.common_transform = common_transform\n",
        "\n",
        "        print(self.img_dir)\n",
        "\n",
        "        # Traverses and prints directory details\n",
        "        #walk_through_dir(img_dir)\n",
        "\n",
        "        #walk_through_dir(mask_dir)\n",
        "\n",
        "        self.img_list = []\n",
        "        self.mask_list = []\n",
        "\n",
        "        self.dirs = [self.img_dir, self.mask_dir]\n",
        "\n",
        "        self.num_processes = min(mp.cpu_count(), len(self.dirs))\n",
        "\n",
        "    # Return the instance\n",
        "    def Get(self):\n",
        "        return self\n",
        "\n",
        "    # Method called by the processs to do parallelization\n",
        "    def run(self, obj):\n",
        "        pool = mp.Pool(self.num_processes)\n",
        "\n",
        "        pool.daemon = False\n",
        "\n",
        "        manager = mp.Manager()\n",
        "        p_img_list = manager.list()\n",
        "        p_mask_list = manager.list()\n",
        "\n",
        "        pool.starmap(self.read_files_from_folder, [(self.img_dir, p_img_list, cv2.IMREAD_COLOR), (self.mask_dir, p_mask_list, cv2.IMREAD_GRAYSCALE)])\n",
        "\n",
        "        self.img_list = p_img_list\n",
        "        self.mask_list = p_mask_list\n",
        "\n",
        "        pool.close()\n",
        "        pool.join()\n",
        "\n",
        "    # Subprocess reading in the 2 different folders at the same time\n",
        "    def read_files_from_folder(self, folder_path, custom_list, imread_type):\n",
        "        counter = 0\n",
        "        for entry in sorted(os.scandir(folder_path), key=lambda e: e.name):\n",
        "            if entry.is_file():\n",
        "              img_path = entry.path\n",
        "\n",
        "              img_open = Image.open(img_path)\n",
        "              img_open = img_open.resize((256, 256), resample=Image.NEAREST)\n",
        "\n",
        "              img_array = np.array(img_open)\n",
        "              custom_list.append(img_array)\n",
        "              #print(filename, \" | \", np.unique(img_array))\n",
        "              print(img_path)\n",
        "\n",
        "\n",
        "            counter = counter + 1\n",
        "            if(counter >17):\n",
        "              break\n",
        "\n",
        "\n",
        "    def __len__(self):\n",
        "        return len(self.img_list)\n",
        "\n",
        "    def __getitem__(self, idx):\n",
        "\n",
        "        img = self.img_list[idx]\n",
        "        y = self.mask_list[idx]\n",
        "\n",
        "\n",
        "        # Create sample array to perform modifications simultaneously on both images and masks\n",
        "        sample = {}\n",
        "        sample['image'] = img\n",
        "        sample['mask'] = y\n",
        "\n",
        "        #print(\"start\")\n",
        "\n",
        "        if(self.eval):\n",
        "          sample_transformed = CustomToTensor(sample)\n",
        "          img = sample_transformed['image']\n",
        "          y = sample_transformed['mask']\n",
        "\n",
        "          #print(\"bonjour\")\n",
        "          #print(img.shape)\n",
        "          #print(y.shape)\n",
        "          #print(\"bonjour1\")\n",
        "\n",
        "          return img, y\n",
        "\n",
        "        if self.img_transform and self.mask_transform and self.common_transform is not None:\n",
        "\n",
        "            # Perform modifications together\n",
        "            sample_transformed = self.common_transform(sample)\n",
        "            img = sample_transformed['image']\n",
        "            y = sample_transformed['mask']\n",
        "\n",
        "            img = self.img_transform(img)\n",
        "            y = self.mask_transform(y)\n",
        "\n",
        "\n",
        "       # print(\"conclusion\")\n",
        "       # if self.eval:\n",
        "       #     return img, y, self.img_list[idx]\n",
        "       # else:\n",
        "        return img, y\n",
        "\n",
        "\n",
        "# Parallelization\n",
        "\n",
        "from multiprocessing import Process, Manager\n",
        "from multiprocessing.managers import BaseManager\n",
        "\n",
        "BaseManager.register('SegIngredientsDataset', SegIngredientsDataset)\n",
        "manager = BaseManager()\n",
        "manager.start()\n",
        "\n",
        "#####\n",
        "#Transformations\n",
        "#########\n",
        "\n",
        "\n",
        "#Normalization image\n",
        "\n",
        "img_mean = [0.485, 0.456, 0.406]\n",
        "img_std = [0.229, 0.224, 0.225]\n",
        "\n",
        "#mask_mean = (0.5,)\n",
        "#mask_std = (0.5,)\n",
        "\n",
        "\n",
        "#RandomGaussianNoise(mean=0.0, std=1.0),\n",
        "img_transform = transforms.Compose([\n",
        "\n",
        "    transforms.ToTensor(),\n",
        "    transforms.Normalize(img_mean, img_std)\n",
        "])\n",
        "\n",
        "# Mask transform\n",
        "mask_transform = transforms.Compose([\n",
        "    transforms.ToTensor(),\n",
        "])\n",
        "\n",
        "# Common transform\n",
        "#RandomCustomCrop((200,200)),\n",
        "#RandomCustomRotation(degrees=(-50, 50)),\n",
        "\n",
        "#RandomCustomVerticalFlip(),\n",
        "#ElasticDeform(sigma=0.1, alpha=30),\n",
        "common_transform = transforms.Compose([\n",
        "\n",
        "    RandomCustomRotation(degrees=(-50, 50)),\n",
        "    RandomCustomHorizontalFlip(),\n",
        "\n",
        "])\n",
        "\n",
        "\n",
        "# Classes handled by the process manager\n",
        "\n",
        "train_data = manager.SegIngredientsDataset(img_dir = img_dir, mask_dir = ann_dir, path = \"train/\", img_transform=img_transform, mask_transform=mask_transform, common_transform=common_transform, eval=False)\n",
        "test_data  = manager.SegIngredientsDataset(img_dir = img_dir, mask_dir = ann_dir, path = \"test/\", img_transform=img_transform, mask_transform=mask_transform, common_transform=common_transform, eval=True)\n",
        "\n",
        "process1 = mp.Process(target=train_data.run, args=[train_data])\n",
        "process2 = mp.Process(target=test_data.run, args=[test_data])\n",
        "process1.start()\n",
        "process2.start()\n",
        "\n",
        "process1.join()\n",
        "process2.join()\n",
        "\n",
        "# Retrieve the 2 datasets (train and test)\n",
        "train_1 = train_data.Get()\n",
        "test_1 = test_data.Get()\n"
      ]
    },
    {
      "cell_type": "code",
      "execution_count": null,
      "metadata": {
        "id": "xNVwV3zdkjNj"
      },
      "outputs": [],
      "source": [
        "# Calculate pixel accuracy\n",
        "def calculate_pixel_accuracy(y_truth, y_pred):\n",
        "\n",
        "    matched_pixels = (y_truth == y_pred).sum().item()\n",
        "    total_pixels = y_truth.nelement()\n",
        "    #print(\"matched pixels\", matched_pixels)\n",
        "    match_ = (matched_pixels / total_pixels)\n",
        "\n",
        "    return match_\n",
        "\n"
      ]
    },
    {
      "cell_type": "code",
      "execution_count": null,
      "metadata": {
        "colab": {
          "base_uri": "https://localhost:8080/",
          "height": 410
        },
        "id": "HHHMiihmqFNE",
        "outputId": "75edba5c-b785-4448-90ba-cf43bac97a8a"
      },
      "outputs": [
        {
          "output_type": "stream",
          "name": "stdout",
          "text": [
            "Feature batch shape: torch.Size([4, 3, 256, 256])\n",
            "Labels batch shape: torch.Size([4, 1, 256, 256])\n",
            "torch.Size([3, 256, 256])\n"
          ]
        },
        {
          "output_type": "display_data",
          "data": {
            "text/plain": [
              "<Figure size 1200x800 with 2 Axes>"
            ],
            "image/png": "[encoded data removed]"
          },
          "metadata": {}
        }
      ],
      "source": [
        "# We create a train_loader by passing the train dataset\n",
        "train_loader = torch.utils.data.DataLoader(dataset = train_1,\n",
        "                                            batch_size = 4,\n",
        "                                            shuffle = True,\n",
        "                                            drop_last=True) #shuffle ensures we traverse images in different order across epochs\n",
        "\n",
        "\n",
        "# Display image and label. Checking if everything is fine\n",
        "train_features, train_labels = next(iter(train_loader))\n",
        "print(f\"Feature batch shape: {train_features.size()}\")\n",
        "print(f\"Labels batch shape: {train_labels.size()}\")\n",
        "\n",
        "# Remove extra dimension (batch)\n",
        "img = train_features[0].squeeze()\n",
        "label = train_labels[0].squeeze()\n",
        "print(img.size())\n",
        "\n",
        "#print(label)\n",
        "\n",
        "\n",
        "# Unnormalize the data so it appears clearly:\n",
        "\n",
        "img_unnorm = UnNormalize(mean=(0.485, 0.456, 0.406), std=(0.229, 0.224, 0.225))\n",
        "#mask_unnorm = UnNormalize(mean=(0.5,), std=(0.5,))\n",
        "\n",
        "img_new = img_unnorm(img)\n",
        "#mask_unnorm = mask_unnorm(label)\n",
        "\n",
        "img_new = img_new.permute(1,2,0)\n",
        "\n",
        "#print(img_new)\n",
        "\n",
        "\n",
        "\n",
        "\n",
        "\n",
        "# normalize the tensor values to the range [0, 255]\n",
        "img_new = img_new * 255.0\n",
        "\n",
        "# convert the tensor to a numpy array\n",
        "img_new = img_new.clamp(0, 255).byte().numpy()\n",
        "\n",
        "#print(img_new)\n",
        "\n",
        "\"\"\"\n",
        "Label\n",
        "\n",
        "\"\"\"\n",
        "\n",
        "# normalize the tensor values to the range [0, 255]\n",
        "label_new = label * 255.0\n",
        "\n",
        "# convert the tensor to a numpy array\n",
        "label_new = label_new.clamp(0, 255).byte().numpy()\n",
        "\n",
        "#print(label_new)\n",
        "\n",
        "\n",
        "plt.figure(figsize=(12, 8))\n",
        "plt.subplot(231)\n",
        "plt.title('Train Image')\n",
        "plt.imshow(img_new)\n",
        "plt.subplot(232)\n",
        "plt.title('Train Label/Mask')\n",
        "plt.imshow(label_new, cmap=\"gray\")\n",
        "\n",
        "plt.show()\n",
        "\n",
        "\n",
        "del train_loader\n"
      ]
    },
    {
      "cell_type": "code",
      "execution_count": null,
      "metadata": {
        "id": "c9qajD9BjJeJ"
      },
      "outputs": [],
      "source": []
    },
    {
      "cell_type": "code",
      "execution_count": null,
      "metadata": {
        "id": "SAwyLQBaT7FD"
      },
      "outputs": [],
      "source": [
        "#if not FIRST_RUN:\n",
        "#  del train_step\n",
        "\n",
        "def train_step(model: torch.nn.Module, dataloader: torch.utils.data.DataLoader, loss_fn: torch.nn.Module,\n",
        "optimizer: torch.optim.Optimizer):\n",
        "  total_train = 0\n",
        "  correct_train = 0\n",
        "# Put model in train mode\n",
        "  model.train()\n",
        "# Setup train loss and train accuracy values\n",
        "  train_loss, train_acc, train_miou_acc_all, train_dice_acc, train_miou_acc_ibg, train_iou_background = 0, 0, 0, 0, 0, 0\n",
        "# Loop through data loader data batches\n",
        "  for batch, (X, y) in enumerate(dataloader):\n",
        "\n",
        "    y = y.squeeze(dim=1)\n",
        "    y = y.type(torch.LongTensor)\n",
        "    #X = X.float()\n",
        "\n",
        "    #print(\"y\", y.shape )\n",
        "\n",
        "\n",
        "# Send data to target device\n",
        "    X, y = X.to(device), y.to(device)\n",
        "# 1. Forward pass\n",
        "    y_pred = model(X)\n",
        "    #print(\"y pred shape\", y_pred.shape)\n",
        "# 2. Calculate and accumulate loss\n",
        "    loss = loss_fn(y_pred, y)\n",
        "    train_loss += loss.item()\n",
        "# 3. Optimizer zero grad\n",
        "    optimizer.zero_grad()\n",
        "# 4. Loss backward\n",
        "    loss.backward()\n",
        "# 5. Optimizer step\n",
        "    optimizer.step()\n",
        "# Calculate and accumulate accuracy metric across all batches\n",
        "\n",
        "    predicted = torch.argmax(y_pred, 1)\n",
        "\n",
        "    train_acc += calculate_pixel_accuracy(y, predicted)\n",
        "\n",
        "    train_tp, train_fp, train_fn, train_tn = smp.metrics.get_stats(predicted, y, mode='multiclass', num_classes=104)\n",
        "    train_miou_acc_all += smp.metrics.iou_score(train_tp, train_fp, train_fn, train_tn, reduction=\"micro\").item()\n",
        "    train_dice_acc += smp.metrics.f1_score(train_tp, train_fp, train_fn, train_tn, reduction=\"micro\").item()\n",
        "\n",
        "    predicted_i = predicted.clone() - 1\n",
        "    y_i = y.clone() - 1\n",
        "\n",
        "    train_tp_i, train_fp_i, train_fn_i, train_tn_i = smp.metrics.get_stats(predicted_i, y_i, mode='multiclass', num_classes=104, ignore_index=-1)\n",
        "    train_miou_acc_ibg += smp.metrics.iou_score(train_tp_i, train_fp_i, train_fn_i, train_tn_i, reduction=\"micro\").item()\n",
        "\n",
        "\n",
        "\n",
        "\n",
        "# Adjust metrics to get average loss and accuracy per batch\n",
        "  train_loss = train_loss / len(dataloader)\n",
        "\n",
        "  train_acc = train_acc / len(dataloader)\n",
        "\n",
        "  train_miou_acc_all = train_miou_acc_all / len(dataloader)\n",
        "  train_dice_acc = train_dice_acc / len(dataloader)\n",
        "\n",
        "  train_miou_acc_ibg = train_miou_acc_ibg / len(dataloader)\n",
        "\n",
        "  train_iou_background = train_miou_acc_all - train_miou_acc_ibg\n",
        "\n",
        "\n",
        "  return train_loss, train_acc, train_miou_acc_all, train_dice_acc, train_miou_acc_ibg, train_iou_background\n"
      ]
    },
    {
      "cell_type": "code",
      "execution_count": null,
      "metadata": {
        "id": "K91qGAKqUc9G"
      },
      "outputs": [],
      "source": [
        "#if not FIRST_RUN:\n",
        "#  del test_step\n",
        "\n",
        "def test_step(model: torch.nn.Module,\n",
        "    dataloader: torch.utils.data.DataLoader,\n",
        "    loss_fn: torch.nn.Module):\n",
        "\n",
        "  total_test = 0\n",
        "  correct_test = 0\n",
        "# Put model in eval mode\n",
        "  model.eval()\n",
        "# Setup test loss and test accuracy values\n",
        "  test_loss, test_acc, test_miou_acc_all, test_dice_acc, test_miou_acc_ibg, test_iou_background = 0, 0, 0, 0, 0, 0\n",
        "# Turn on no_grad context manager\n",
        "  with torch.no_grad():\n",
        "# Loop through DataLoader batches\n",
        "    for batch, (X, y) in enumerate(dataloader):\n",
        "\n",
        "      y = y.squeeze(dim=1)\n",
        "      y = y.type(torch.LongTensor)\n",
        "\n",
        "# Send data to target device\n",
        "      X, y = X.to(device), y.to(device)\n",
        "# 1. Forward pass\n",
        "      test_pred_logits = model(X)\n",
        "# 2. Calculate and accumulate loss\n",
        "      loss = loss_fn(test_pred_logits, y)\n",
        "      test_loss += loss.item()\n",
        "# Calculate and accumulate accuracy\n",
        "\n",
        "      predicted = torch.argmax(test_pred_logits, 1)\n",
        "\n",
        "      test_acc += calculate_pixel_accuracy(y, predicted)\n",
        "\n",
        "      test_tp, test_fp, test_fn, test_tn = smp.metrics.get_stats(predicted, y, mode='multiclass', num_classes=104)\n",
        "      test_miou_acc_all += smp.metrics.iou_score(test_tp, test_fp, test_fn, test_tn, reduction=\"micro\").item()\n",
        "      test_dice_acc += smp.metrics.f1_score(test_tp, test_fp, test_fn, test_tn, reduction=\"micro\").item()\n",
        "\n",
        "      predicted_i = predicted.clone() - 1\n",
        "      y_i = y.clone() - 1\n",
        "\n",
        "      test_tp_i, test_fp_i, test_fn_i, test_tn_i = smp.metrics.get_stats(predicted_i, y_i, mode='multiclass', num_classes=104, ignore_index=-1)\n",
        "      test_miou_acc_ibg += smp.metrics.iou_score(test_tp_i, test_fp_i, test_fn_i, test_tn_i, reduction=\"micro\").item()\n",
        "\n",
        "\n",
        "\n",
        "\n",
        "# Adjust metrics to get average loss and accuracy per batch\n",
        "  test_loss = test_loss / len(dataloader)\n",
        "\n",
        "  test_acc = test_acc / len(dataloader)\n",
        "\n",
        "  test_miou_acc_all = test_miou_acc_all / len(dataloader)\n",
        "  test_dice_acc = test_dice_acc / len(dataloader)\n",
        "\n",
        "  test_miou_acc_ibg = test_miou_acc_ibg / len(dataloader)\n",
        "\n",
        "  test_iou_background = test_miou_acc_all - test_miou_acc_ibg\n",
        "\n",
        "  return test_loss, test_acc, test_miou_acc_all, test_dice_acc, test_miou_acc_ibg, test_iou_background\n"
      ]
    },
    {
      "cell_type": "code",
      "execution_count": null,
      "metadata": {
        "id": "-vvAeYvCUis0"
      },
      "outputs": [],
      "source": [
        "#if not FIRST_RUN:\n",
        "#  del save_training_checkpoint\n",
        "#  del save_results_in_file\n",
        "#  del train\n",
        "\n",
        "import json\n",
        "\n",
        "# Function to save pth files to google drive\n",
        "def save_training_checkpoint(state, filename):\n",
        "    path = F\"/content/gdrive/MyDrive/Thesis_deeplearning_models/{filename}.pth\"\n",
        "    torch.save(state, path)\n",
        "\n",
        "# Function to save results into a file\n",
        "def save_results_in_file(dic_results, hyperparameters):\n",
        "  link = \"/content/gdrive/MyDrive/Thesis_deeplearning_models/results_randomsearch_v\" + str(hyperparameters.VERSION_EXPERIMENT) + \".txt\"\n",
        "  with open(link, 'a') as f:\n",
        "    json.dump(dic_results, f)\n",
        "    f.write('\\n')\n",
        "\n",
        "\n",
        "# Define a custom encoder that skips over non-serializable attributes\n",
        "class CustomEncoder(json.JSONEncoder):\n",
        "    def default(self, obj):\n",
        "        if isinstance(obj, property):\n",
        "            return None\n",
        "        return super().default(obj)\n",
        "\n",
        "\n",
        "def save_hyperparameters_in_file(hyperparameters):\n",
        "  # Convert the class variables to a dictionary\n",
        "  table_dict = {\"VERSION_EXPERIMENT\": hyperparameters.VERSION_EXPERIMENT,\n",
        "                \"OPTIMIZER\": hyperparameters.OPTIMIZER,\n",
        "                \"ARCHITECTURE_USED\" : hyperparameters.ARCHITECTURE_USED,\n",
        "                \"NETWORK\": hyperparameters.NETWORK,\n",
        "                \"BATCH_SIZE\": hyperparameters.BATCH_SIZE,\n",
        "                \"LEARNING_RATE\": hyperparameters.LEARNING_RATE,\n",
        "                \"MOMENTUM\": hyperparameters.MOMENTUM,\n",
        "                \"WEIGHT_DECAY\": hyperparameters.WEIGHT_DECAY,\n",
        "                \"LOSS_FUNCTION\" : hyperparameters.LOSS_FUNCTION,\n",
        "                \"NUM_EPOCHS\": hyperparameters.NUM_EPOCHS\n",
        "                }\n",
        "\n",
        "  # Serialize the dictionary to a JSON string\n",
        "  json_string = json.dumps(table_dict, indent=4)\n",
        "  json_string_comma = \",\" + json_string\n",
        "  link = \"/content/gdrive/MyDrive/Thesis_deeplearning_models/hyperparameters_versions.txt\"\n",
        "\n",
        "  # Write the JSON string to a text file\n",
        "  with open(link, \"a\") as f:\n",
        "    f.write(json_string_comma)\n",
        "\n",
        "\n",
        "\n",
        "def train(model: torch.nn.Module, train_dataloader: torch.utils.data.DataLoader, test_dataloader: torch.utils.data.DataLoader,\n",
        "          optimizer: torch.optim.Optimizer, hyperparameters, loss_fn: torch.nn.Module = nn.CrossEntropyLoss(), epochs: int = 5):\n",
        "    # 2. Create empty results dictionary\n",
        "    results = {\"train_loss\": [],\n",
        "        \"train_acc\": [],\n",
        "        \"train_miou_acc_all\": [],\n",
        "        \"train_dice_acc\" : [],\n",
        "        \"train_miou_acc_ibg\" : [],\n",
        "        \"train_iou_background\": [],\n",
        "        \"test_loss\": [],\n",
        "        \"test_acc\": [],\n",
        "        \"test_miou_acc_all\": [],\n",
        "        \"test_dice_acc\": [],\n",
        "        \"test_miou_acc_ibg\" : [],\n",
        "        \"test_iou_background\": [],\n",
        "        \"learning_rate\": [],\n",
        "    }\n",
        "\n",
        "    results_line = {\n",
        "        \"epoch\": 0,\n",
        "        \"train_loss\": 0,\n",
        "        \"train_acc\": 0,\n",
        "        \"train_miou_acc_all\": 0,\n",
        "        \"train_dice_acc\" : 0,\n",
        "        \"train_miou_acc_ibg\" : 0,\n",
        "        \"train_iou_background\": 0,\n",
        "        \"test_loss\": 0,\n",
        "        \"test_acc\": 0,\n",
        "        \"test_miou_acc_all\": 0,\n",
        "        \"test_dice_acc\": 0,\n",
        "        \"test_miou_acc_ibg\" : 0,\n",
        "        \"test_iou_background\": 0,\n",
        "        \"learning_rate\": 0,\n",
        "    }\n",
        "\n",
        "    # Save hyperparameters in a file\n",
        "    save_hyperparameters_in_file(hyperparameters)\n",
        "\n",
        "    # 3. Loop through training and testing steps for a number of epochs\n",
        "    for epoch in tqdm(range(epochs)):\n",
        "        train_loss, train_acc, train_miou_acc_all, train_dice_acc, train_miou_acc_ibg, train_iou_background = train_step(model=model,dataloader=train_dataloader, loss_fn=loss_fn, optimizer=optimizer)\n",
        "        test_loss, test_acc, test_miou_acc_all, test_dice_acc, test_miou_acc_ibg, test_iou_background = test_step(model=model, dataloader=test_dataloader, loss_fn=loss_fn)\n",
        "\n",
        "        #current_lr = scheduler.get_last_lr()[0]\n",
        "        #scheduler.step()\n",
        "        current_lr = hyperparameters.LEARNING_RATE\n",
        "\n",
        "\n",
        "        # 4. Print loss & accuracies\n",
        "        print(\n",
        "            f\"Epoch: {epoch+1} | \"\n",
        "            f\"train_loss: {train_loss:.4f} | \"\n",
        "            f\"train_acc: {train_acc:.4f} | \"\n",
        "            f\"train_miou_acc_all: {train_miou_acc_all:.4f} | \"\n",
        "            f\"train_dice_acc: {train_dice_acc:.4f} | \"\n",
        "            f\"train_miou_acc_ibg: {train_miou_acc_ibg:.4f} | \"\n",
        "            f\"train_iou_background: {train_iou_background:.4f} | \"\n",
        "            f\"test_loss: {test_loss:.4f} | \"\n",
        "            f\"test_acc: {test_acc:.4f} | \"\n",
        "            f\"test_miou_acc_all: {test_miou_acc_all:.4f} | \"\n",
        "            f\"test_dice_acc: {test_dice_acc:.4f} | \"\n",
        "            f\"test_miou_acc_ibg: {test_miou_acc_ibg:.4f} | \"\n",
        "            f\"test_iou_background: {test_iou_background:.4f} | \"\n",
        "            f\"learning_rate: {current_lr:.4f} | \"\n",
        "        )\n",
        "        # 5. Update results dictionary\n",
        "        results[\"train_loss\"].append(train_loss)\n",
        "        results[\"train_acc\"].append(train_acc)\n",
        "        results[\"train_miou_acc_all\"].append(train_miou_acc_all)\n",
        "        results[\"train_dice_acc\"].append(train_dice_acc)\n",
        "        results[\"train_miou_acc_ibg\"].append(train_miou_acc_ibg)\n",
        "        results[\"train_iou_background\"].append(train_iou_background)\n",
        "\n",
        "        results[\"test_loss\"].append(test_loss)\n",
        "        results[\"test_acc\"].append(test_acc)\n",
        "        results[\"test_miou_acc_all\"].append(test_miou_acc_all)\n",
        "        results[\"test_dice_acc\"].append(test_dice_acc)\n",
        "        results[\"test_miou_acc_ibg\"].append(test_miou_acc_ibg)\n",
        "        results[\"test_iou_background\"].append(test_iou_background)\n",
        "\n",
        "        results[\"learning_rate\"].append(current_lr)\n",
        "\n",
        "\n",
        "        # Save model continuously :\n",
        "\n",
        "        \"\"\"file_checkpoint_exp = 'checkpoint_random_v' + str(hyperparameters.VERSION_EXPERIMENT) + '_{}'\n",
        "        file_checkpoint = file_checkpoint_exp.format(epoch+1)\n",
        "\n",
        "        if(test_miou_acc_all >= 0.43):\n",
        "            save_training_checkpoint({\n",
        "                'epoch': epoch+1,\n",
        "                'state_dict': model.state_dict(),\n",
        "                'optimizer': optimizer.state_dict(),\n",
        "            }, file_checkpoint,\n",
        "            )\n",
        "        \"\"\"\n",
        "\n",
        "        # Update results_line dictionary\n",
        "\n",
        "        results_line[\"epoch\"] = epoch+1\n",
        "\n",
        "        results_line[\"train_loss\"] = train_loss\n",
        "        results_line[\"train_acc\"] = train_acc\n",
        "        results_line[\"train_miou_acc_all\"] = train_miou_acc_all\n",
        "        results_line[\"train_dice_acc\"] = train_dice_acc\n",
        "        results_line[\"train_miou_acc_ibg\"] = train_miou_acc_ibg\n",
        "        results_line[\"train_iou_background\"] = train_iou_background\n",
        "\n",
        "        results_line[\"test_loss\"] = test_loss\n",
        "        results_line[\"test_acc\"] = test_acc\n",
        "        results_line[\"test_miou_acc_all\"] = test_miou_acc_all\n",
        "        results_line[\"test_dice_acc\"] = test_dice_acc\n",
        "        results_line[\"test_miou_acc_ibg\"] = test_miou_acc_ibg\n",
        "        results_line[\"test_iou_background\"] = test_iou_background\n",
        "\n",
        "        results_line[\"learning_rate\"] = current_lr\n",
        "\n",
        "        # Save data results in a file\n",
        "        save_results_in_file(results_line, hyperparameters)\n",
        "\n",
        "\n",
        "    # 6. Return the filled results at the end of the epochs\n",
        "    return results\n"
      ]
    },
    {
      "cell_type": "code",
      "execution_count": null,
      "metadata": {
        "id": "wsdAaXPqVKOu",
        "colab": {
          "base_uri": "https://localhost:8080/"
        },
        "outputId": "6baa7dea-411b-4279-cb64-1cb1d48871e0"
      },
      "outputs": [
        {
          "output_type": "stream",
          "name": "stdout",
          "text": [
            "Collecting segmentation-models-pytorch\n",
            "  Downloading segmentation_models_pytorch-0.3.3-py3-none-any.whl (106 kB)\n",
            "\u001b[?25l     \u001b[90m━━━━━━━━━━━━━━━━━━━━━━━━━━━━━━━━━━━━━━━━\u001b[0m \u001b[32m0.0/106.7 kB\u001b[0m \u001b[31m?\u001b[0m eta \u001b[36m-:--:--\u001b[0m\r\u001b[2K     \u001b[91m━━━━━━━━━━━━━━━━━━━━━━━━━━━━━━\u001b[0m\u001b[91m╸\u001b[0m\u001b[90m━━━━━━━━━\u001b[0m \u001b[32m81.9/106.7 kB\u001b[0m \u001b[31m2.3 MB/s\u001b[0m eta \u001b[36m0:00:01\u001b[0m\r\u001b[2K     \u001b[90m━━━━━━━━━━━━━━━━━━━━━━━━━━━━━━━━━━━━━━━\u001b[0m \u001b[32m106.7/106.7 kB\u001b[0m \u001b[31m2.4 MB/s\u001b[0m eta \u001b[36m0:00:00\u001b[0m\n",
            "\u001b[?25hRequirement already satisfied: torchvision>=0.5.0 in /usr/local/lib/python3.10/dist-packages (from segmentation-models-pytorch) (0.15.2+cu118)\n",
            "Collecting pretrainedmodels==0.7.4 (from segmentation-models-pytorch)\n",
            "  Downloading pretrainedmodels-0.7.4.tar.gz (58 kB)\n",
            "\u001b[?25l     \u001b[90m━━━━━━━━━━━━━━━━━━━━━━━━━━━━━━━━━━━━━━━━\u001b[0m \u001b[32m0.0/58.8 kB\u001b[0m \u001b[31m?\u001b[0m eta \u001b[36m-:--:--\u001b[0m\r\u001b[2K     \u001b[90m━━━━━━━━━━━━━━━━━━━━━━━━━━━━━━━━━━━━━━━━\u001b[0m \u001b[32m58.8/58.8 kB\u001b[0m \u001b[31m7.5 MB/s\u001b[0m eta \u001b[36m0:00:00\u001b[0m\n",
            "\u001b[?25h  Preparing metadata (setup.py) ... \u001b[?25l\u001b[?25hdone\n",
            "Collecting efficientnet-pytorch==0.7.1 (from segmentation-models-pytorch)\n",
            "  Downloading efficientnet_pytorch-0.7.1.tar.gz (21 kB)\n",
            "  Preparing metadata (setup.py) ... \u001b[?25l\u001b[?25hdone\n",
            "Collecting timm==0.9.2 (from segmentation-models-pytorch)\n",
            "  Downloading timm-0.9.2-py3-none-any.whl (2.2 MB)\n",
            "\u001b[2K     \u001b[90m━━━━━━━━━━━━━━━━━━━━━━━━━━━━━━━━━━━━━━━━\u001b[0m \u001b[32m2.2/2.2 MB\u001b[0m \u001b[31m97.1 MB/s\u001b[0m eta \u001b[36m0:00:00\u001b[0m\n",
            "\u001b[?25hRequirement already satisfied: tqdm in /usr/local/lib/python3.10/dist-packages (from segmentation-models-pytorch) (4.65.0)\n",
            "Requirement already satisfied: pillow in /usr/local/lib/python3.10/dist-packages (from segmentation-models-pytorch) (8.4.0)\n",
            "Requirement already satisfied: torch in /usr/local/lib/python3.10/dist-packages (from efficientnet-pytorch==0.7.1->segmentation-models-pytorch) (2.0.1+cu118)\n",
            "Collecting munch (from pretrainedmodels==0.7.4->segmentation-models-pytorch)\n",
            "  Downloading munch-4.0.0-py2.py3-none-any.whl (9.9 kB)\n",
            "Requirement already satisfied: pyyaml in /usr/local/lib/python3.10/dist-packages (from timm==0.9.2->segmentation-models-pytorch) (6.0.1)\n",
            "Collecting huggingface-hub (from timm==0.9.2->segmentation-models-pytorch)\n",
            "  Downloading huggingface_hub-0.16.4-py3-none-any.whl (268 kB)\n",
            "\u001b[2K     \u001b[90m━━━━━━━━━━━━━━━━━━━━━━━━━━━━━━━━━━━━━━\u001b[0m \u001b[32m268.8/268.8 kB\u001b[0m \u001b[31m33.7 MB/s\u001b[0m eta \u001b[36m0:00:00\u001b[0m\n",
            "\u001b[?25hCollecting safetensors (from timm==0.9.2->segmentation-models-pytorch)\n",
            "  Downloading safetensors-0.3.1-cp310-cp310-manylinux_2_17_x86_64.manylinux2014_x86_64.whl (1.3 MB)\n",
            "\u001b[2K     \u001b[90m━━━━━━━━━━━━━━━━━━━━━━━━━━━━━━━━━━━━━━━━\u001b[0m \u001b[32m1.3/1.3 MB\u001b[0m \u001b[31m81.4 MB/s\u001b[0m eta \u001b[36m0:00:00\u001b[0m\n",
            "\u001b[?25hRequirement already satisfied: numpy in /usr/local/lib/python3.10/dist-packages (from torchvision>=0.5.0->segmentation-models-pytorch) (1.22.4)\n",
            "Requirement already satisfied: requests in /usr/local/lib/python3.10/dist-packages (from torchvision>=0.5.0->segmentation-models-pytorch) (2.27.1)\n",
            "Requirement already satisfied: filelock in /usr/local/lib/python3.10/dist-packages (from torch->efficientnet-pytorch==0.7.1->segmentation-models-pytorch) (3.12.2)\n",
            "Requirement already satisfied: typing-extensions in /usr/local/lib/python3.10/dist-packages (from torch->efficientnet-pytorch==0.7.1->segmentation-models-pytorch) (4.7.1)\n",
            "Requirement already satisfied: sympy in /usr/local/lib/python3.10/dist-packages (from torch->efficientnet-pytorch==0.7.1->segmentation-models-pytorch) (1.11.1)\n",
            "Requirement already satisfied: networkx in /usr/local/lib/python3.10/dist-packages (from torch->efficientnet-pytorch==0.7.1->segmentation-models-pytorch) (3.1)\n",
            "Requirement already satisfied: jinja2 in /usr/local/lib/python3.10/dist-packages (from torch->efficientnet-pytorch==0.7.1->segmentation-models-pytorch) (3.1.2)\n",
            "Requirement already satisfied: triton==2.0.0 in /usr/local/lib/python3.10/dist-packages (from torch->efficientnet-pytorch==0.7.1->segmentation-models-pytorch) (2.0.0)\n",
            "Requirement already satisfied: cmake in /usr/local/lib/python3.10/dist-packages (from triton==2.0.0->torch->efficientnet-pytorch==0.7.1->segmentation-models-pytorch) (3.25.2)\n",
            "Requirement already satisfied: lit in /usr/local/lib/python3.10/dist-packages (from triton==2.0.0->torch->efficientnet-pytorch==0.7.1->segmentation-models-pytorch) (16.0.6)\n",
            "Requirement already satisfied: fsspec in /usr/local/lib/python3.10/dist-packages (from huggingface-hub->timm==0.9.2->segmentation-models-pytorch) (2023.6.0)\n",
            "Requirement already satisfied: packaging>=20.9 in /usr/local/lib/python3.10/dist-packages (from huggingface-hub->timm==0.9.2->segmentation-models-pytorch) (23.1)\n",
            "Requirement already satisfied: urllib3<1.27,>=1.21.1 in /usr/local/lib/python3.10/dist-packages (from requests->torchvision>=0.5.0->segmentation-models-pytorch) (1.26.16)\n",
            "Requirement already satisfied: certifi>=2017.4.17 in /usr/local/lib/python3.10/dist-packages (from requests->torchvision>=0.5.0->segmentation-models-pytorch) (2023.5.7)\n",
            "Requirement already satisfied: charset-normalizer~=2.0.0 in /usr/local/lib/python3.10/dist-packages (from requests->torchvision>=0.5.0->segmentation-models-pytorch) (2.0.12)\n",
            "Requirement already satisfied: idna<4,>=2.5 in /usr/local/lib/python3.10/dist-packages (from requests->torchvision>=0.5.0->segmentation-models-pytorch) (3.4)\n",
            "Requirement already satisfied: MarkupSafe>=2.0 in /usr/local/lib/python3.10/dist-packages (from jinja2->torch->efficientnet-pytorch==0.7.1->segmentation-models-pytorch) (2.1.3)\n",
            "Requirement already satisfied: mpmath>=0.19 in /usr/local/lib/python3.10/dist-packages (from sympy->torch->efficientnet-pytorch==0.7.1->segmentation-models-pytorch) (1.3.0)\n",
            "Building wheels for collected packages: efficientnet-pytorch, pretrainedmodels\n",
            "  Building wheel for efficientnet-pytorch (setup.py) ... \u001b[?25l\u001b[?25hdone\n",
            "  Created wheel for efficientnet-pytorch: filename=efficientnet_pytorch-0.7.1-py3-none-any.whl size=16427 sha256=2064b8023dfe0c7149dbc4909e37723cb59242b2b26dc0743472cabc7309a95c\n",
            "  Stored in directory: /root/.cache/pip/wheels/03/3f/e9/911b1bc46869644912bda90a56bcf7b960f20b5187feea3baf\n",
            "  Building wheel for pretrainedmodels (setup.py) ... \u001b[?25l\u001b[?25hdone\n",
            "  Created wheel for pretrainedmodels: filename=pretrainedmodels-0.7.4-py3-none-any.whl size=60945 sha256=8fd4c575f0f61ff5168e019deed6fb92398d120a2975b2ba5e07ef1e9e9175db\n",
            "  Stored in directory: /root/.cache/pip/wheels/35/cb/a5/8f534c60142835bfc889f9a482e4a67e0b817032d9c6883b64\n",
            "Successfully built efficientnet-pytorch pretrainedmodels\n",
            "Installing collected packages: safetensors, munch, huggingface-hub, timm, pretrainedmodels, efficientnet-pytorch, segmentation-models-pytorch\n",
            "Successfully installed efficientnet-pytorch-0.7.1 huggingface-hub-0.16.4 munch-4.0.0 pretrainedmodels-0.7.4 safetensors-0.3.1 segmentation-models-pytorch-0.3.3 timm-0.9.2\n",
            "Version 1080\n",
            "Optimizer Adam\n",
            "Architecture DeepLabV3\n",
            "Network resnet18\n",
            "Batch size 4\n",
            "Learning Rate 0.7348223924636841\n",
            "Momentum 0.9\n",
            "Weight Decay 0.00020293312263675034\n",
            "Loss function CrossEntropyLoss\n",
            "Num epochs 21\n",
            "CrossEntropyLoss\n",
            "DeepLabV3 no activation\n"
          ]
        },
        {
          "output_type": "stream",
          "name": "stderr",
          "text": [
            "Downloading: \"https://download.pytorch.org/models/resnet18-5c106cde.pth\" to /root/.cache/torch/hub/checkpoints/resnet18-5c106cde.pth\n",
            "100%|██████████| 44.7M/44.7M [00:00<00:00, 360MB/s]\n"
          ]
        },
        {
          "output_type": "stream",
          "name": "stdout",
          "text": [
            "adam momentum - weight decay \n"
          ]
        },
        {
          "output_type": "stream",
          "name": "stderr",
          "text": [
            "\r  0%|          | 0/21 [00:00<?, ?it/s]"
          ]
        },
        {
          "output_type": "stream",
          "name": "stdout",
          "text": [
            "Epoch: 1 | train_loss: 34.9635 | train_acc: 0.3214 | train_miou_acc_all: 0.2065 | train_dice_acc: 0.3214 | train_miou_acc_ibg: 0.0037 | train_iou_background: 0.2028 | test_loss: 211172888576.0000 | test_acc: 0.4922 | test_miou_acc_all: 0.3295 | test_dice_acc: 0.4922 | test_miou_acc_ibg: 0.0000 | test_iou_background: 0.3295 | learning_rate: 0.7348 | \n"
          ]
        },
        {
          "output_type": "stream",
          "name": "stderr",
          "text": [
            " 10%|▉         | 2/21 [00:09<01:14,  3.90s/it]"
          ]
        },
        {
          "output_type": "stream",
          "name": "stdout",
          "text": [
            "Epoch: 2 | train_loss: 3.1537 | train_acc: 0.8036 | train_miou_acc_all: 0.7189 | train_dice_acc: 0.8036 | train_miou_acc_ibg: nan | train_iou_background: nan | test_loss: 15436153.2500 | test_acc: 0.4755 | test_miou_acc_all: 0.3150 | test_dice_acc: 0.4755 | test_miou_acc_ibg: 0.0003 | test_iou_background: 0.3147 | learning_rate: 0.7348 | \n"
          ]
        },
        {
          "output_type": "stream",
          "name": "stderr",
          "text": [
            "\r 14%|█▍        | 3/21 [00:09<00:44,  2.47s/it]"
          ]
        },
        {
          "output_type": "stream",
          "name": "stdout",
          "text": [
            "Epoch: 3 | train_loss: 1.8449 | train_acc: 0.7408 | train_miou_acc_all: 0.6133 | train_dice_acc: 0.7408 | train_miou_acc_ibg: nan | train_iou_background: nan | test_loss: 10399.7926 | test_acc: 0.0221 | test_miou_acc_all: 0.0112 | test_dice_acc: 0.0221 | test_miou_acc_ibg: 0.0123 | test_iou_background: -0.0012 | learning_rate: 0.7348 | \n"
          ]
        },
        {
          "output_type": "stream",
          "name": "stderr",
          "text": [
            "\r 19%|█▉        | 4/21 [00:10<00:30,  1.80s/it]"
          ]
        },
        {
          "output_type": "stream",
          "name": "stdout",
          "text": [
            "Epoch: 4 | train_loss: 8.7782 | train_acc: 0.7762 | train_miou_acc_all: 0.6457 | train_dice_acc: 0.7762 | train_miou_acc_ibg: 0.0000 | train_iou_background: 0.6457 | test_loss: 214.0636 | test_acc: 0.4887 | test_miou_acc_all: 0.3266 | test_dice_acc: 0.4887 | test_miou_acc_ibg: 0.0002 | test_iou_background: 0.3264 | learning_rate: 0.7348 | \n"
          ]
        },
        {
          "output_type": "stream",
          "name": "stderr",
          "text": [
            "\r 24%|██▍       | 5/21 [00:11<00:22,  1.42s/it]"
          ]
        },
        {
          "output_type": "stream",
          "name": "stdout",
          "text": [
            "Epoch: 5 | train_loss: 1.7341 | train_acc: 0.7629 | train_miou_acc_all: 0.6242 | train_dice_acc: 0.7629 | train_miou_acc_ibg: 0.0000 | train_iou_background: 0.6242 | test_loss: 35.2120 | test_acc: 0.4922 | test_miou_acc_all: 0.3295 | test_dice_acc: 0.4922 | test_miou_acc_ibg: 0.0000 | test_iou_background: 0.3295 | learning_rate: 0.7348 | \n"
          ]
        },
        {
          "output_type": "stream",
          "name": "stderr",
          "text": [
            "\r 29%|██▊       | 6/21 [00:12<00:17,  1.19s/it]"
          ]
        },
        {
          "output_type": "stream",
          "name": "stdout",
          "text": [
            "Epoch: 6 | train_loss: 2.9606 | train_acc: 0.6994 | train_miou_acc_all: 0.5788 | train_dice_acc: 0.6994 | train_miou_acc_ibg: 0.0000 | train_iou_background: 0.5788 | test_loss: 31.7590 | test_acc: 0.4451 | test_miou_acc_all: 0.2886 | test_dice_acc: 0.4451 | test_miou_acc_ibg: 0.0000 | test_iou_background: 0.2886 | learning_rate: 0.7348 | \n"
          ]
        },
        {
          "output_type": "stream",
          "name": "stderr",
          "text": [
            "\r 33%|███▎      | 7/21 [00:12<00:14,  1.05s/it]"
          ]
        },
        {
          "output_type": "stream",
          "name": "stdout",
          "text": [
            "Epoch: 7 | train_loss: 1.7683 | train_acc: 0.6680 | train_miou_acc_all: 0.5104 | train_dice_acc: 0.6680 | train_miou_acc_ibg: 0.0000 | train_iou_background: 0.5104 | test_loss: 22.8941 | test_acc: 0.4922 | test_miou_acc_all: 0.3295 | test_dice_acc: 0.4922 | test_miou_acc_ibg: 0.0000 | test_iou_background: 0.3295 | learning_rate: 0.7348 | \n"
          ]
        },
        {
          "output_type": "stream",
          "name": "stderr",
          "text": [
            "\r 38%|███▊      | 8/21 [00:13<00:12,  1.06it/s]"
          ]
        },
        {
          "output_type": "stream",
          "name": "stdout",
          "text": [
            "Epoch: 8 | train_loss: 1.6310 | train_acc: 0.7199 | train_miou_acc_all: 0.5950 | train_dice_acc: 0.7199 | train_miou_acc_ibg: nan | train_iou_background: nan | test_loss: 6.4452 | test_acc: 0.3978 | test_miou_acc_all: 0.2502 | test_dice_acc: 0.3978 | test_miou_acc_ibg: 0.0013 | test_iou_background: 0.2489 | learning_rate: 0.7348 | \n"
          ]
        },
        {
          "output_type": "stream",
          "name": "stderr",
          "text": [
            "\r 43%|████▎     | 9/21 [00:14<00:10,  1.12it/s]"
          ]
        },
        {
          "output_type": "stream",
          "name": "stdout",
          "text": [
            "Epoch: 9 | train_loss: 1.1825 | train_acc: 0.8064 | train_miou_acc_all: 0.7108 | train_dice_acc: 0.8064 | train_miou_acc_ibg: nan | train_iou_background: nan | test_loss: 5.7164 | test_acc: 0.4922 | test_miou_acc_all: 0.3295 | test_dice_acc: 0.4922 | test_miou_acc_ibg: 0.0000 | test_iou_background: 0.3295 | learning_rate: 0.7348 | \n"
          ]
        },
        {
          "output_type": "stream",
          "name": "stderr",
          "text": [
            "\r 48%|████▊     | 10/21 [00:15<00:09,  1.18it/s]"
          ]
        },
        {
          "output_type": "stream",
          "name": "stdout",
          "text": [
            "Epoch: 10 | train_loss: 1.6390 | train_acc: 0.6870 | train_miou_acc_all: 0.5253 | train_dice_acc: 0.6870 | train_miou_acc_ibg: 0.0000 | train_iou_background: 0.5253 | test_loss: 7.1607 | test_acc: 0.4922 | test_miou_acc_all: 0.3295 | test_dice_acc: 0.4922 | test_miou_acc_ibg: 0.0000 | test_iou_background: 0.3295 | learning_rate: 0.7348 | \n"
          ]
        },
        {
          "output_type": "stream",
          "name": "stderr",
          "text": [
            "\r 52%|█████▏    | 11/21 [00:15<00:08,  1.24it/s]"
          ]
        },
        {
          "output_type": "stream",
          "name": "stdout",
          "text": [
            "Epoch: 11 | train_loss: 8.3165 | train_acc: 0.9146 | train_miou_acc_all: 0.8482 | train_dice_acc: 0.9146 | train_miou_acc_ibg: nan | train_iou_background: nan | test_loss: 148.4502 | test_acc: 0.4922 | test_miou_acc_all: 0.3295 | test_dice_acc: 0.4922 | test_miou_acc_ibg: 0.0000 | test_iou_background: 0.3295 | learning_rate: 0.7348 | \n"
          ]
        },
        {
          "output_type": "stream",
          "name": "stderr",
          "text": [
            "\r 57%|█████▋    | 12/21 [00:16<00:07,  1.27it/s]"
          ]
        },
        {
          "output_type": "stream",
          "name": "stdout",
          "text": [
            "Epoch: 12 | train_loss: 2.0944 | train_acc: 0.6330 | train_miou_acc_all: 0.4823 | train_dice_acc: 0.6330 | train_miou_acc_ibg: 0.0000 | train_iou_background: 0.4823 | test_loss: 14.7247 | test_acc: 0.4922 | test_miou_acc_all: 0.3295 | test_dice_acc: 0.4922 | test_miou_acc_ibg: 0.0000 | test_iou_background: 0.3295 | learning_rate: 0.7348 | \n"
          ]
        },
        {
          "output_type": "stream",
          "name": "stderr",
          "text": [
            "\r 62%|██████▏   | 13/21 [00:17<00:06,  1.30it/s]"
          ]
        },
        {
          "output_type": "stream",
          "name": "stdout",
          "text": [
            "Epoch: 13 | train_loss: 1.6390 | train_acc: 0.7240 | train_miou_acc_all: 0.5677 | train_dice_acc: 0.7240 | train_miou_acc_ibg: 0.0000 | train_iou_background: 0.5677 | test_loss: 2.8909 | test_acc: 0.4922 | test_miou_acc_all: 0.3295 | test_dice_acc: 0.4922 | test_miou_acc_ibg: 0.0000 | test_iou_background: 0.3295 | learning_rate: 0.7348 | \n"
          ]
        },
        {
          "output_type": "stream",
          "name": "stderr",
          "text": [
            "\r 67%|██████▋   | 14/21 [00:18<00:05,  1.32it/s]"
          ]
        },
        {
          "output_type": "stream",
          "name": "stdout",
          "text": [
            "Epoch: 14 | train_loss: 1.3506 | train_acc: 0.7504 | train_miou_acc_all: 0.6046 | train_dice_acc: 0.7504 | train_miou_acc_ibg: 0.0000 | train_iou_background: 0.6046 | test_loss: 2.9314 | test_acc: 0.4922 | test_miou_acc_all: 0.3295 | test_dice_acc: 0.4922 | test_miou_acc_ibg: 0.0000 | test_iou_background: 0.3295 | learning_rate: 0.7348 | \n"
          ]
        },
        {
          "output_type": "stream",
          "name": "stderr",
          "text": [
            "\r 71%|███████▏  | 15/21 [00:18<00:04,  1.33it/s]"
          ]
        },
        {
          "output_type": "stream",
          "name": "stdout",
          "text": [
            "Epoch: 15 | train_loss: 1.1534 | train_acc: 0.7726 | train_miou_acc_all: 0.6398 | train_dice_acc: 0.7726 | train_miou_acc_ibg: 0.0000 | train_iou_background: 0.6398 | test_loss: 6.1239 | test_acc: 0.4922 | test_miou_acc_all: 0.3295 | test_dice_acc: 0.4922 | test_miou_acc_ibg: 0.0000 | test_iou_background: 0.3295 | learning_rate: 0.7348 | \n"
          ]
        },
        {
          "output_type": "stream",
          "name": "stderr",
          "text": [
            "\r 76%|███████▌  | 16/21 [00:19<00:03,  1.34it/s]"
          ]
        },
        {
          "output_type": "stream",
          "name": "stdout",
          "text": [
            "Epoch: 16 | train_loss: 1.7296 | train_acc: 0.7594 | train_miou_acc_all: 0.6190 | train_dice_acc: 0.7594 | train_miou_acc_ibg: 0.0000 | train_iou_background: 0.6190 | test_loss: 5.2409 | test_acc: 0.4922 | test_miou_acc_all: 0.3295 | test_dice_acc: 0.4922 | test_miou_acc_ibg: 0.0000 | test_iou_background: 0.3295 | learning_rate: 0.7348 | \n"
          ]
        },
        {
          "output_type": "stream",
          "name": "stderr",
          "text": [
            "\r 81%|████████  | 17/21 [00:20<00:02,  1.34it/s]"
          ]
        },
        {
          "output_type": "stream",
          "name": "stdout",
          "text": [
            "Epoch: 17 | train_loss: 1.4281 | train_acc: 0.7754 | train_miou_acc_all: 0.6723 | train_dice_acc: 0.7754 | train_miou_acc_ibg: nan | train_iou_background: nan | test_loss: 10.9845 | test_acc: 0.4922 | test_miou_acc_all: 0.3295 | test_dice_acc: 0.4922 | test_miou_acc_ibg: 0.0000 | test_iou_background: 0.3295 | learning_rate: 0.7348 | \n"
          ]
        },
        {
          "output_type": "stream",
          "name": "stderr",
          "text": [
            "\r 86%|████████▌ | 18/21 [00:21<00:02,  1.34it/s]"
          ]
        },
        {
          "output_type": "stream",
          "name": "stdout",
          "text": [
            "Epoch: 18 | train_loss: 1.8627 | train_acc: 0.7103 | train_miou_acc_all: 0.5995 | train_dice_acc: 0.7103 | train_miou_acc_ibg: nan | train_iou_background: nan | test_loss: 5.6767 | test_acc: 0.4892 | test_miou_acc_all: 0.3268 | test_dice_acc: 0.4892 | test_miou_acc_ibg: 0.0000 | test_iou_background: 0.3268 | learning_rate: 0.7348 | \n"
          ]
        },
        {
          "output_type": "stream",
          "name": "stderr",
          "text": [
            "\r 90%|█████████ | 19/21 [00:21<00:01,  1.34it/s]"
          ]
        },
        {
          "output_type": "stream",
          "name": "stdout",
          "text": [
            "Epoch: 19 | train_loss: 1.3545 | train_acc: 0.7616 | train_miou_acc_all: 0.6209 | train_dice_acc: 0.7616 | train_miou_acc_ibg: 0.0000 | train_iou_background: 0.6209 | test_loss: 8.2715 | test_acc: 0.4922 | test_miou_acc_all: 0.3295 | test_dice_acc: 0.4922 | test_miou_acc_ibg: 0.0000 | test_iou_background: 0.3295 | learning_rate: 0.7348 | \n"
          ]
        },
        {
          "output_type": "stream",
          "name": "stderr",
          "text": [
            "\r 95%|█████████▌| 20/21 [00:22<00:00,  1.35it/s]"
          ]
        },
        {
          "output_type": "stream",
          "name": "stdout",
          "text": [
            "Epoch: 20 | train_loss: 1.4817 | train_acc: 0.7327 | train_miou_acc_all: 0.5942 | train_dice_acc: 0.7327 | train_miou_acc_ibg: 0.0000 | train_iou_background: 0.5942 | test_loss: 4.9659 | test_acc: 0.4922 | test_miou_acc_all: 0.3295 | test_dice_acc: 0.4922 | test_miou_acc_ibg: 0.0000 | test_iou_background: 0.3295 | learning_rate: 0.7348 | \n"
          ]
        },
        {
          "output_type": "stream",
          "name": "stderr",
          "text": [
            "100%|██████████| 21/21 [00:23<00:00,  1.11s/it]"
          ]
        },
        {
          "output_type": "stream",
          "name": "stdout",
          "text": [
            "Epoch: 21 | train_loss: 1.9301 | train_acc: 0.6428 | train_miou_acc_all: 0.4827 | train_dice_acc: 0.6428 | train_miou_acc_ibg: 0.0000 | train_iou_background: 0.4827 | test_loss: 6.2122 | test_acc: 0.4922 | test_miou_acc_all: 0.3295 | test_dice_acc: 0.4922 | test_miou_acc_ibg: 0.0000 | test_iou_background: 0.3295 | learning_rate: 0.7348 | \n",
            "Total training time: 23.660 seconds\n",
            "Version 1081\n",
            "Optimizer Adam\n",
            "Architecture DeepLabV3\n",
            "Network resnet18\n",
            "Batch size 4\n",
            "Learning Rate 0.0037564176600426435\n",
            "Momentum 0.9\n",
            "Weight Decay 0.00975065678358078\n",
            "Loss function CrossEntropyLoss\n",
            "Num epochs 24\n",
            "CrossEntropyLoss\n",
            "DeepLabV3 no activation\n"
          ]
        },
        {
          "output_type": "stream",
          "name": "stderr",
          "text": [
            "\n"
          ]
        },
        {
          "output_type": "stream",
          "name": "stdout",
          "text": [
            "adam momentum - weight decay \n"
          ]
        },
        {
          "output_type": "stream",
          "name": "stderr",
          "text": [
            "\r  0%|          | 0/24 [00:00<?, ?it/s]"
          ]
        },
        {
          "output_type": "stream",
          "name": "stdout",
          "text": [
            "Epoch: 1 | train_loss: 4.1665 | train_acc: 0.2972 | train_miou_acc_all: 0.1866 | train_dice_acc: 0.2972 | train_miou_acc_ibg: 0.0056 | train_iou_background: 0.1810 | test_loss: 32435.3091 | test_acc: 0.1028 | test_miou_acc_all: 0.0554 | test_dice_acc: 0.1028 | test_miou_acc_ibg: 0.0397 | test_iou_background: 0.0157 | learning_rate: 0.0038 | \n"
          ]
        },
        {
          "output_type": "stream",
          "name": "stderr",
          "text": [
            "  8%|▊         | 2/24 [00:01<00:20,  1.08it/s]"
          ]
        },
        {
          "output_type": "stream",
          "name": "stdout",
          "text": [
            "Epoch: 2 | train_loss: 2.9849 | train_acc: 0.5775 | train_miou_acc_all: 0.4331 | train_dice_acc: 0.5775 | train_miou_acc_ibg: nan | train_iou_background: nan | test_loss: 835.4231 | test_acc: 0.4922 | test_miou_acc_all: 0.3295 | test_dice_acc: 0.4922 | test_miou_acc_ibg: 0.0000 | test_iou_background: 0.3295 | learning_rate: 0.0038 | \n"
          ]
        },
        {
          "output_type": "stream",
          "name": "stderr",
          "text": [
            "\r 12%|█▎        | 3/24 [00:02<00:18,  1.16it/s]"
          ]
        },
        {
          "output_type": "stream",
          "name": "stdout",
          "text": [
            "Epoch: 3 | train_loss: 2.1171 | train_acc: 0.5365 | train_miou_acc_all: 0.3668 | train_dice_acc: 0.5365 | train_miou_acc_ibg: 0.0077 | train_iou_background: 0.3591 | test_loss: 1580.6305 | test_acc: 0.4922 | test_miou_acc_all: 0.3295 | test_dice_acc: 0.4922 | test_miou_acc_ibg: 0.0000 | test_iou_background: 0.3295 | learning_rate: 0.0038 | \n"
          ]
        },
        {
          "output_type": "stream",
          "name": "stderr",
          "text": [
            "\r 17%|█▋        | 4/24 [00:03<00:16,  1.23it/s]"
          ]
        },
        {
          "output_type": "stream",
          "name": "stdout",
          "text": [
            "Epoch: 4 | train_loss: 1.5407 | train_acc: 0.7432 | train_miou_acc_all: 0.6119 | train_dice_acc: 0.7432 | train_miou_acc_ibg: 0.0000 | train_iou_background: 0.6119 | test_loss: 1140.3655 | test_acc: 0.4922 | test_miou_acc_all: 0.3295 | test_dice_acc: 0.4922 | test_miou_acc_ibg: 0.0000 | test_iou_background: 0.3295 | learning_rate: 0.0038 | \n"
          ]
        },
        {
          "output_type": "stream",
          "name": "stderr",
          "text": [
            "\r 21%|██        | 5/24 [00:04<00:14,  1.27it/s]"
          ]
        },
        {
          "output_type": "stream",
          "name": "stdout",
          "text": [
            "Epoch: 5 | train_loss: 1.4027 | train_acc: 0.7662 | train_miou_acc_all: 0.6260 | train_dice_acc: 0.7662 | train_miou_acc_ibg: 0.0000 | train_iou_background: 0.6260 | test_loss: 2.9712 | test_acc: 0.4922 | test_miou_acc_all: 0.3295 | test_dice_acc: 0.4922 | test_miou_acc_ibg: 0.0000 | test_iou_background: 0.3295 | learning_rate: 0.0038 | \n"
          ]
        },
        {
          "output_type": "stream",
          "name": "stderr",
          "text": [
            "\r 25%|██▌       | 6/24 [00:04<00:13,  1.29it/s]"
          ]
        },
        {
          "output_type": "stream",
          "name": "stdout",
          "text": [
            "Epoch: 6 | train_loss: 1.6490 | train_acc: 0.6242 | train_miou_acc_all: 0.4557 | train_dice_acc: 0.6242 | train_miou_acc_ibg: 0.0000 | train_iou_background: 0.4557 | test_loss: 2.8102 | test_acc: 0.4922 | test_miou_acc_all: 0.3295 | test_dice_acc: 0.4922 | test_miou_acc_ibg: 0.0000 | test_iou_background: 0.3295 | learning_rate: 0.0038 | \n"
          ]
        },
        {
          "output_type": "stream",
          "name": "stderr",
          "text": [
            "\r 29%|██▉       | 7/24 [00:05<00:12,  1.31it/s]"
          ]
        },
        {
          "output_type": "stream",
          "name": "stdout",
          "text": [
            "Epoch: 7 | train_loss: 1.4676 | train_acc: 0.6911 | train_miou_acc_all: 0.5405 | train_dice_acc: 0.6911 | train_miou_acc_ibg: 0.0092 | train_iou_background: 0.5312 | test_loss: 2.7216 | test_acc: 0.4922 | test_miou_acc_all: 0.3295 | test_dice_acc: 0.4922 | test_miou_acc_ibg: 0.0000 | test_iou_background: 0.3295 | learning_rate: 0.0038 | \n"
          ]
        },
        {
          "output_type": "stream",
          "name": "stderr",
          "text": [
            "\r 33%|███▎      | 8/24 [00:06<00:12,  1.23it/s]"
          ]
        },
        {
          "output_type": "stream",
          "name": "stdout",
          "text": [
            "Epoch: 8 | train_loss: 1.2887 | train_acc: 0.7435 | train_miou_acc_all: 0.6237 | train_dice_acc: 0.7435 | train_miou_acc_ibg: nan | train_iou_background: nan | test_loss: 3.1843 | test_acc: 0.4922 | test_miou_acc_all: 0.3295 | test_dice_acc: 0.4922 | test_miou_acc_ibg: 0.0000 | test_iou_background: 0.3295 | learning_rate: 0.0038 | \n"
          ]
        },
        {
          "output_type": "stream",
          "name": "stderr",
          "text": [
            "\r 38%|███▊      | 9/24 [00:07<00:12,  1.18it/s]"
          ]
        },
        {
          "output_type": "stream",
          "name": "stdout",
          "text": [
            "Epoch: 9 | train_loss: 1.7922 | train_acc: 0.6455 | train_miou_acc_all: 0.4978 | train_dice_acc: 0.6455 | train_miou_acc_ibg: 0.0000 | train_iou_background: 0.4978 | test_loss: 3.8672 | test_acc: 0.4922 | test_miou_acc_all: 0.3295 | test_dice_acc: 0.4922 | test_miou_acc_ibg: 0.0000 | test_iou_background: 0.3295 | learning_rate: 0.0038 | \n"
          ]
        },
        {
          "output_type": "stream",
          "name": "stderr",
          "text": [
            "\r 42%|████▏     | 10/24 [00:08<00:11,  1.23it/s]"
          ]
        },
        {
          "output_type": "stream",
          "name": "stdout",
          "text": [
            "Epoch: 10 | train_loss: 1.0549 | train_acc: 0.7752 | train_miou_acc_all: 0.6390 | train_dice_acc: 0.7752 | train_miou_acc_ibg: 0.0025 | train_iou_background: 0.6365 | test_loss: 3.3654 | test_acc: 0.4922 | test_miou_acc_all: 0.3295 | test_dice_acc: 0.4922 | test_miou_acc_ibg: 0.0000 | test_iou_background: 0.3295 | learning_rate: 0.0038 | \n"
          ]
        },
        {
          "output_type": "stream",
          "name": "stderr",
          "text": [
            "\r 46%|████▌     | 11/24 [00:09<00:10,  1.26it/s]"
          ]
        },
        {
          "output_type": "stream",
          "name": "stdout",
          "text": [
            "Epoch: 11 | train_loss: 1.7150 | train_acc: 0.6738 | train_miou_acc_all: 0.5295 | train_dice_acc: 0.6738 | train_miou_acc_ibg: 0.0228 | train_iou_background: 0.5067 | test_loss: 3.5585 | test_acc: 0.4922 | test_miou_acc_all: 0.3295 | test_dice_acc: 0.4922 | test_miou_acc_ibg: 0.0000 | test_iou_background: 0.3295 | learning_rate: 0.0038 | \n"
          ]
        },
        {
          "output_type": "stream",
          "name": "stderr",
          "text": [
            "\r 50%|█████     | 12/24 [00:09<00:09,  1.28it/s]"
          ]
        },
        {
          "output_type": "stream",
          "name": "stdout",
          "text": [
            "Epoch: 12 | train_loss: 1.3905 | train_acc: 0.7243 | train_miou_acc_all: 0.5954 | train_dice_acc: 0.7243 | train_miou_acc_ibg: nan | train_iou_background: nan | test_loss: 3.8103 | test_acc: 0.4922 | test_miou_acc_all: 0.3295 | test_dice_acc: 0.4922 | test_miou_acc_ibg: 0.0000 | test_iou_background: 0.3295 | learning_rate: 0.0038 | \n"
          ]
        },
        {
          "output_type": "stream",
          "name": "stderr",
          "text": [
            "\r 54%|█████▍    | 13/24 [00:10<00:08,  1.30it/s]"
          ]
        },
        {
          "output_type": "stream",
          "name": "stdout",
          "text": [
            "Epoch: 13 | train_loss: 2.2861 | train_acc: 0.5799 | train_miou_acc_all: 0.4248 | train_dice_acc: 0.5799 | train_miou_acc_ibg: 0.0000 | train_iou_background: 0.4248 | test_loss: 2.9565 | test_acc: 0.4922 | test_miou_acc_all: 0.3295 | test_dice_acc: 0.4922 | test_miou_acc_ibg: 0.0000 | test_iou_background: 0.3295 | learning_rate: 0.0038 | \n"
          ]
        },
        {
          "output_type": "stream",
          "name": "stderr",
          "text": [
            "\r 58%|█████▊    | 14/24 [00:11<00:07,  1.31it/s]"
          ]
        },
        {
          "output_type": "stream",
          "name": "stdout",
          "text": [
            "Epoch: 14 | train_loss: 1.4974 | train_acc: 0.6964 | train_miou_acc_all: 0.5480 | train_dice_acc: 0.6964 | train_miou_acc_ibg: 0.0000 | train_iou_background: 0.5480 | test_loss: 2.6834 | test_acc: 0.4922 | test_miou_acc_all: 0.3295 | test_dice_acc: 0.4922 | test_miou_acc_ibg: 0.0000 | test_iou_background: 0.3295 | learning_rate: 0.0038 | \n"
          ]
        },
        {
          "output_type": "stream",
          "name": "stderr",
          "text": [
            "\r 62%|██████▎   | 15/24 [00:11<00:06,  1.32it/s]"
          ]
        },
        {
          "output_type": "stream",
          "name": "stdout",
          "text": [
            "Epoch: 15 | train_loss: 0.8710 | train_acc: 0.7920 | train_miou_acc_all: 0.6614 | train_dice_acc: 0.7920 | train_miou_acc_ibg: 0.0992 | train_iou_background: 0.5622 | test_loss: 2.8187 | test_acc: 0.4922 | test_miou_acc_all: 0.3295 | test_dice_acc: 0.4922 | test_miou_acc_ibg: 0.0000 | test_iou_background: 0.3295 | learning_rate: 0.0038 | \n"
          ]
        },
        {
          "output_type": "stream",
          "name": "stderr",
          "text": [
            "\r 67%|██████▋   | 16/24 [00:12<00:06,  1.32it/s]"
          ]
        },
        {
          "output_type": "stream",
          "name": "stdout",
          "text": [
            "Epoch: 16 | train_loss: 1.3085 | train_acc: 0.7138 | train_miou_acc_all: 0.5585 | train_dice_acc: 0.7138 | train_miou_acc_ibg: 0.0123 | train_iou_background: 0.5463 | test_loss: 2.6501 | test_acc: 0.4922 | test_miou_acc_all: 0.3295 | test_dice_acc: 0.4922 | test_miou_acc_ibg: 0.0000 | test_iou_background: 0.3295 | learning_rate: 0.0038 | \n"
          ]
        },
        {
          "output_type": "stream",
          "name": "stderr",
          "text": [
            "\r 71%|███████   | 17/24 [00:13<00:05,  1.32it/s]"
          ]
        },
        {
          "output_type": "stream",
          "name": "stdout",
          "text": [
            "Epoch: 17 | train_loss: 1.3027 | train_acc: 0.7443 | train_miou_acc_all: 0.6051 | train_dice_acc: 0.7443 | train_miou_acc_ibg: 0.0000 | train_iou_background: 0.6051 | test_loss: 2.8067 | test_acc: 0.4922 | test_miou_acc_all: 0.3295 | test_dice_acc: 0.4922 | test_miou_acc_ibg: 0.0000 | test_iou_background: 0.3295 | learning_rate: 0.0038 | \n"
          ]
        },
        {
          "output_type": "stream",
          "name": "stderr",
          "text": [
            "\r 75%|███████▌  | 18/24 [00:14<00:04,  1.31it/s]"
          ]
        },
        {
          "output_type": "stream",
          "name": "stdout",
          "text": [
            "Epoch: 18 | train_loss: 0.7987 | train_acc: 0.8469 | train_miou_acc_all: 0.7537 | train_dice_acc: 0.8469 | train_miou_acc_ibg: nan | train_iou_background: nan | test_loss: 3.2165 | test_acc: 0.4922 | test_miou_acc_all: 0.3295 | test_dice_acc: 0.4922 | test_miou_acc_ibg: 0.0000 | test_iou_background: 0.3295 | learning_rate: 0.0038 | \n"
          ]
        },
        {
          "output_type": "stream",
          "name": "stderr",
          "text": [
            "\r 79%|███████▉  | 19/24 [00:15<00:03,  1.31it/s]"
          ]
        },
        {
          "output_type": "stream",
          "name": "stdout",
          "text": [
            "Epoch: 19 | train_loss: 0.7426 | train_acc: 0.8634 | train_miou_acc_all: 0.7808 | train_dice_acc: 0.8634 | train_miou_acc_ibg: nan | train_iou_background: nan | test_loss: 3.5725 | test_acc: 0.4922 | test_miou_acc_all: 0.3295 | test_dice_acc: 0.4922 | test_miou_acc_ibg: 0.0000 | test_iou_background: 0.3295 | learning_rate: 0.0038 | \n"
          ]
        },
        {
          "output_type": "stream",
          "name": "stderr",
          "text": [
            "\r 83%|████████▎ | 20/24 [00:15<00:03,  1.30it/s]"
          ]
        },
        {
          "output_type": "stream",
          "name": "stdout",
          "text": [
            "Epoch: 20 | train_loss: 1.3142 | train_acc: 0.7668 | train_miou_acc_all: 0.6486 | train_dice_acc: 0.7668 | train_miou_acc_ibg: nan | train_iou_background: nan | test_loss: 3.0792 | test_acc: 0.4922 | test_miou_acc_all: 0.3295 | test_dice_acc: 0.4922 | test_miou_acc_ibg: 0.0000 | test_iou_background: 0.3295 | learning_rate: 0.0038 | \n"
          ]
        },
        {
          "output_type": "stream",
          "name": "stderr",
          "text": [
            "\r 88%|████████▊ | 21/24 [00:16<00:02,  1.30it/s]"
          ]
        },
        {
          "output_type": "stream",
          "name": "stdout",
          "text": [
            "Epoch: 21 | train_loss: 1.3512 | train_acc: 0.7471 | train_miou_acc_all: 0.6258 | train_dice_acc: 0.7471 | train_miou_acc_ibg: nan | train_iou_background: nan | test_loss: 3.1643 | test_acc: 0.4922 | test_miou_acc_all: 0.3295 | test_dice_acc: 0.4922 | test_miou_acc_ibg: 0.0000 | test_iou_background: 0.3295 | learning_rate: 0.0038 | \n"
          ]
        },
        {
          "output_type": "stream",
          "name": "stderr",
          "text": [
            "\r 92%|█████████▏| 22/24 [00:17<00:01,  1.30it/s]"
          ]
        },
        {
          "output_type": "stream",
          "name": "stdout",
          "text": [
            "Epoch: 22 | train_loss: 1.8098 | train_acc: 0.6876 | train_miou_acc_all: 0.5433 | train_dice_acc: 0.6876 | train_miou_acc_ibg: 0.0000 | train_iou_background: 0.5433 | test_loss: 3.3696 | test_acc: 0.4922 | test_miou_acc_all: 0.3295 | test_dice_acc: 0.4922 | test_miou_acc_ibg: 0.0000 | test_iou_background: 0.3295 | learning_rate: 0.0038 | \n"
          ]
        },
        {
          "output_type": "stream",
          "name": "stderr",
          "text": [
            "\r 96%|█████████▌| 23/24 [00:18<00:00,  1.31it/s]"
          ]
        },
        {
          "output_type": "stream",
          "name": "stdout",
          "text": [
            "Epoch: 23 | train_loss: 1.3319 | train_acc: 0.7558 | train_miou_acc_all: 0.6163 | train_dice_acc: 0.7558 | train_miou_acc_ibg: 0.0000 | train_iou_background: 0.6163 | test_loss: 3.1206 | test_acc: 0.4922 | test_miou_acc_all: 0.3295 | test_dice_acc: 0.4922 | test_miou_acc_ibg: 0.0000 | test_iou_background: 0.3295 | learning_rate: 0.0038 | \n"
          ]
        },
        {
          "output_type": "stream",
          "name": "stderr",
          "text": [
            "100%|██████████| 24/24 [00:18<00:00,  1.27it/s]"
          ]
        },
        {
          "output_type": "stream",
          "name": "stdout",
          "text": [
            "Epoch: 24 | train_loss: 1.5260 | train_acc: 0.6878 | train_miou_acc_all: 0.5314 | train_dice_acc: 0.6878 | train_miou_acc_ibg: 0.0000 | train_iou_background: 0.5314 | test_loss: 2.7563 | test_acc: 0.4922 | test_miou_acc_all: 0.3295 | test_dice_acc: 0.4922 | test_miou_acc_ibg: 0.0000 | test_iou_background: 0.3295 | learning_rate: 0.0038 | \n",
            "Total training time: 18.882 seconds\n",
            "Version 1082\n",
            "Optimizer Adam\n",
            "Architecture DeepLabV3\n",
            "Network resnet18\n",
            "Batch size 4\n",
            "Learning Rate 0.0001116187049774453\n",
            "Momentum 0.9\n",
            "Weight Decay 0.0001461169304093346\n",
            "Loss function CrossEntropyLoss\n",
            "Num epochs 11\n",
            "CrossEntropyLoss\n",
            "DeepLabV3 no activation\n"
          ]
        },
        {
          "output_type": "stream",
          "name": "stderr",
          "text": [
            "\n"
          ]
        },
        {
          "output_type": "stream",
          "name": "stdout",
          "text": [
            "adam momentum - weight decay \n"
          ]
        },
        {
          "output_type": "stream",
          "name": "stderr",
          "text": [
            "\r  0%|          | 0/11 [00:00<?, ?it/s]"
          ]
        },
        {
          "output_type": "stream",
          "name": "stdout",
          "text": [
            "Epoch: 1 | train_loss: 4.3180 | train_acc: 0.2731 | train_miou_acc_all: 0.1666 | train_dice_acc: 0.2731 | train_miou_acc_ibg: 0.0306 | train_iou_background: 0.1360 | test_loss: 4.6985 | test_acc: 0.0016 | test_miou_acc_all: 0.0008 | test_dice_acc: 0.0016 | test_miou_acc_ibg: 0.0017 | test_iou_background: -0.0009 | learning_rate: 0.0001 | \n"
          ]
        },
        {
          "output_type": "stream",
          "name": "stderr",
          "text": [
            " 18%|█▊        | 2/11 [00:01<00:08,  1.09it/s]"
          ]
        },
        {
          "output_type": "stream",
          "name": "stdout",
          "text": [
            "Epoch: 2 | train_loss: 3.9416 | train_acc: 0.3698 | train_miou_acc_all: 0.2326 | train_dice_acc: 0.3698 | train_miou_acc_ibg: 0.0282 | train_iou_background: 0.2044 | test_loss: 4.7383 | test_acc: 0.0944 | test_miou_acc_all: 0.0500 | test_dice_acc: 0.0944 | test_miou_acc_ibg: 0.0077 | test_iou_background: 0.0423 | learning_rate: 0.0001 | \n"
          ]
        },
        {
          "output_type": "stream",
          "name": "stderr",
          "text": [
            "\r 27%|██▋       | 3/11 [00:02<00:06,  1.18it/s]"
          ]
        },
        {
          "output_type": "stream",
          "name": "stdout",
          "text": [
            "Epoch: 3 | train_loss: 3.3851 | train_acc: 0.5600 | train_miou_acc_all: 0.3900 | train_dice_acc: 0.5600 | train_miou_acc_ibg: 0.0458 | train_iou_background: 0.3442 | test_loss: 5.0880 | test_acc: 0.0805 | test_miou_acc_all: 0.0422 | test_dice_acc: 0.0805 | test_miou_acc_ibg: 0.0035 | test_iou_background: 0.0387 | learning_rate: 0.0001 | \n"
          ]
        },
        {
          "output_type": "stream",
          "name": "stderr",
          "text": [
            "\r 36%|███▋      | 4/11 [00:03<00:05,  1.23it/s]"
          ]
        },
        {
          "output_type": "stream",
          "name": "stdout",
          "text": [
            "Epoch: 4 | train_loss: 3.2385 | train_acc: 0.6435 | train_miou_acc_all: 0.4844 | train_dice_acc: 0.6435 | train_miou_acc_ibg: 0.0096 | train_iou_background: 0.4748 | test_loss: 5.6391 | test_acc: 0.0769 | test_miou_acc_all: 0.0401 | test_dice_acc: 0.0769 | test_miou_acc_ibg: 0.0013 | test_iou_background: 0.0388 | learning_rate: 0.0001 | \n"
          ]
        },
        {
          "output_type": "stream",
          "name": "stderr",
          "text": [
            "\r 45%|████▌     | 5/11 [00:04<00:04,  1.26it/s]"
          ]
        },
        {
          "output_type": "stream",
          "name": "stdout",
          "text": [
            "Epoch: 5 | train_loss: 3.3897 | train_acc: 0.6322 | train_miou_acc_all: 0.4697 | train_dice_acc: 0.6322 | train_miou_acc_ibg: nan | train_iou_background: nan | test_loss: 5.4233 | test_acc: 0.1322 | test_miou_acc_all: 0.0710 | test_dice_acc: 0.1322 | test_miou_acc_ibg: 0.0041 | test_iou_background: 0.0669 | learning_rate: 0.0001 | \n"
          ]
        },
        {
          "output_type": "stream",
          "name": "stderr",
          "text": [
            "\r 55%|█████▍    | 6/11 [00:04<00:03,  1.28it/s]"
          ]
        },
        {
          "output_type": "stream",
          "name": "stdout",
          "text": [
            "Epoch: 6 | train_loss: 2.9227 | train_acc: 0.7019 | train_miou_acc_all: 0.5436 | train_dice_acc: 0.7019 | train_miou_acc_ibg: 0.0303 | train_iou_background: 0.5133 | test_loss: 5.4723 | test_acc: 0.1263 | test_miou_acc_all: 0.0675 | test_dice_acc: 0.1263 | test_miou_acc_ibg: 0.0090 | test_iou_background: 0.0584 | learning_rate: 0.0001 | \n"
          ]
        },
        {
          "output_type": "stream",
          "name": "stderr",
          "text": [
            "\r 64%|██████▎   | 7/11 [00:05<00:03,  1.28it/s]"
          ]
        },
        {
          "output_type": "stream",
          "name": "stdout",
          "text": [
            "Epoch: 7 | train_loss: 2.7584 | train_acc: 0.6887 | train_miou_acc_all: 0.5268 | train_dice_acc: 0.6887 | train_miou_acc_ibg: 0.0686 | train_iou_background: 0.4582 | test_loss: 4.9901 | test_acc: 0.1924 | test_miou_acc_all: 0.1066 | test_dice_acc: 0.1924 | test_miou_acc_ibg: 0.0187 | test_iou_background: 0.0879 | learning_rate: 0.0001 | \n"
          ]
        },
        {
          "output_type": "stream",
          "name": "stderr",
          "text": [
            "\r 73%|███████▎  | 8/11 [00:06<00:02,  1.29it/s]"
          ]
        },
        {
          "output_type": "stream",
          "name": "stdout",
          "text": [
            "Epoch: 8 | train_loss: 2.7699 | train_acc: 0.6938 | train_miou_acc_all: 0.5354 | train_dice_acc: 0.6938 | train_miou_acc_ibg: 0.1653 | train_iou_background: 0.3700 | test_loss: 4.4242 | test_acc: 0.2894 | test_miou_acc_all: 0.1696 | test_dice_acc: 0.2894 | test_miou_acc_ibg: 0.0447 | test_iou_background: 0.1249 | learning_rate: 0.0001 | \n"
          ]
        },
        {
          "output_type": "stream",
          "name": "stderr",
          "text": [
            "\r 82%|████████▏ | 9/11 [00:07<00:01,  1.29it/s]"
          ]
        },
        {
          "output_type": "stream",
          "name": "stdout",
          "text": [
            "Epoch: 9 | train_loss: 2.7027 | train_acc: 0.6860 | train_miou_acc_all: 0.5256 | train_dice_acc: 0.6860 | train_miou_acc_ibg: 0.1290 | train_iou_background: 0.3966 | test_loss: 4.1765 | test_acc: 0.3351 | test_miou_acc_all: 0.2019 | test_dice_acc: 0.3351 | test_miou_acc_ibg: 0.0596 | test_iou_background: 0.1423 | learning_rate: 0.0001 | \n"
          ]
        },
        {
          "output_type": "stream",
          "name": "stderr",
          "text": [
            "\r 91%|█████████ | 10/11 [00:08<00:00,  1.29it/s]"
          ]
        },
        {
          "output_type": "stream",
          "name": "stdout",
          "text": [
            "Epoch: 10 | train_loss: 2.8700 | train_acc: 0.6824 | train_miou_acc_all: 0.5252 | train_dice_acc: 0.6824 | train_miou_acc_ibg: nan | train_iou_background: nan | test_loss: 4.1509 | test_acc: 0.3319 | test_miou_acc_all: 0.1997 | test_dice_acc: 0.3319 | test_miou_acc_ibg: 0.0501 | test_iou_background: 0.1496 | learning_rate: 0.0001 | \n"
          ]
        },
        {
          "output_type": "stream",
          "name": "stderr",
          "text": [
            "100%|██████████| 11/11 [00:08<00:00,  1.24it/s]"
          ]
        },
        {
          "output_type": "stream",
          "name": "stdout",
          "text": [
            "Epoch: 11 | train_loss: 2.8977 | train_acc: 0.6665 | train_miou_acc_all: 0.5045 | train_dice_acc: 0.6665 | train_miou_acc_ibg: nan | train_iou_background: nan | test_loss: 3.9212 | test_acc: 0.3636 | test_miou_acc_all: 0.2235 | test_dice_acc: 0.3636 | test_miou_acc_ibg: 0.0475 | test_iou_background: 0.1760 | learning_rate: 0.0001 | \n",
            "Total training time: 8.855 seconds\n",
            "Version 1083\n",
            "Optimizer Adam\n",
            "Architecture DeepLabV3\n",
            "Network resnet18\n",
            "Batch size 4\n",
            "Learning Rate 0.1898062825202942\n",
            "Momentum 0.9\n",
            "Weight Decay 0.0003511009563226253\n",
            "Loss function CrossEntropyLoss\n",
            "Num epochs 16\n",
            "CrossEntropyLoss\n",
            "DeepLabV3 no activation\n"
          ]
        },
        {
          "output_type": "stream",
          "name": "stderr",
          "text": [
            "\n"
          ]
        },
        {
          "output_type": "stream",
          "name": "stdout",
          "text": [
            "adam momentum - weight decay \n"
          ]
        },
        {
          "output_type": "stream",
          "name": "stderr",
          "text": [
            "\r  0%|          | 0/16 [00:00<?, ?it/s]"
          ]
        },
        {
          "output_type": "stream",
          "name": "stdout",
          "text": [
            "Epoch: 1 | train_loss: 9.4206 | train_acc: 0.5791 | train_miou_acc_all: 0.4723 | train_dice_acc: 0.5791 | train_miou_acc_ibg: 0.0012 | train_iou_background: 0.4711 | test_loss: 3425947456.0000 | test_acc: 0.4922 | test_miou_acc_all: 0.3295 | test_dice_acc: 0.4922 | test_miou_acc_ibg: 0.0000 | test_iou_background: 0.3295 | learning_rate: 0.1898 | \n"
          ]
        },
        {
          "output_type": "stream",
          "name": "stderr",
          "text": [
            " 12%|█▎        | 2/16 [00:01<00:13,  1.06it/s]"
          ]
        },
        {
          "output_type": "stream",
          "name": "stdout",
          "text": [
            "Epoch: 2 | train_loss: 7.8632 | train_acc: 0.7309 | train_miou_acc_all: 0.5886 | train_dice_acc: 0.7309 | train_miou_acc_ibg: 0.0000 | train_iou_background: 0.5886 | test_loss: 480289.8359 | test_acc: 0.4922 | test_miou_acc_all: 0.3295 | test_dice_acc: 0.4922 | test_miou_acc_ibg: 0.0000 | test_iou_background: 0.3295 | learning_rate: 0.1898 | \n"
          ]
        },
        {
          "output_type": "stream",
          "name": "stderr",
          "text": [
            "\r 19%|█▉        | 3/16 [00:02<00:11,  1.15it/s]"
          ]
        },
        {
          "output_type": "stream",
          "name": "stdout",
          "text": [
            "Epoch: 3 | train_loss: 2.1848 | train_acc: 0.7821 | train_miou_acc_all: 0.6571 | train_dice_acc: 0.7821 | train_miou_acc_ibg: 0.0000 | train_iou_background: 0.6571 | test_loss: 990.9526 | test_acc: 0.4922 | test_miou_acc_all: 0.3295 | test_dice_acc: 0.4922 | test_miou_acc_ibg: 0.0000 | test_iou_background: 0.3295 | learning_rate: 0.1898 | \n"
          ]
        },
        {
          "output_type": "stream",
          "name": "stderr",
          "text": [
            "\r 25%|██▌       | 4/16 [00:03<00:09,  1.21it/s]"
          ]
        },
        {
          "output_type": "stream",
          "name": "stdout",
          "text": [
            "Epoch: 4 | train_loss: 1.4904 | train_acc: 0.7107 | train_miou_acc_all: 0.5521 | train_dice_acc: 0.7107 | train_miou_acc_ibg: 0.0000 | train_iou_background: 0.5521 | test_loss: 2.8203 | test_acc: 0.4922 | test_miou_acc_all: 0.3295 | test_dice_acc: 0.4922 | test_miou_acc_ibg: 0.0000 | test_iou_background: 0.3295 | learning_rate: 0.1898 | \n"
          ]
        },
        {
          "output_type": "stream",
          "name": "stderr",
          "text": [
            "\r 31%|███▏      | 5/16 [00:04<00:08,  1.25it/s]"
          ]
        },
        {
          "output_type": "stream",
          "name": "stdout",
          "text": [
            "Epoch: 5 | train_loss: 3.1830 | train_acc: 0.6236 | train_miou_acc_all: 0.5019 | train_dice_acc: 0.6236 | train_miou_acc_ibg: nan | train_iou_background: nan | test_loss: 2.7856 | test_acc: 0.4922 | test_miou_acc_all: 0.3295 | test_dice_acc: 0.4922 | test_miou_acc_ibg: 0.0000 | test_iou_background: 0.3295 | learning_rate: 0.1898 | \n"
          ]
        },
        {
          "output_type": "stream",
          "name": "stderr",
          "text": [
            "\r 38%|███▊      | 6/16 [00:05<00:07,  1.27it/s]"
          ]
        },
        {
          "output_type": "stream",
          "name": "stdout",
          "text": [
            "Epoch: 6 | train_loss: 1.4282 | train_acc: 0.7761 | train_miou_acc_all: 0.6444 | train_dice_acc: 0.7761 | train_miou_acc_ibg: 0.0000 | train_iou_background: 0.6444 | test_loss: 2.6961 | test_acc: 0.4922 | test_miou_acc_all: 0.3295 | test_dice_acc: 0.4922 | test_miou_acc_ibg: 0.0000 | test_iou_background: 0.3295 | learning_rate: 0.1898 | \n"
          ]
        },
        {
          "output_type": "stream",
          "name": "stderr",
          "text": [
            "\r 44%|████▍     | 7/16 [00:05<00:07,  1.28it/s]"
          ]
        },
        {
          "output_type": "stream",
          "name": "stdout",
          "text": [
            "Epoch: 7 | train_loss: 1.3027 | train_acc: 0.7105 | train_miou_acc_all: 0.5566 | train_dice_acc: 0.7105 | train_miou_acc_ibg: 0.0046 | train_iou_background: 0.5519 | test_loss: 3.2990 | test_acc: 0.4922 | test_miou_acc_all: 0.3295 | test_dice_acc: 0.4922 | test_miou_acc_ibg: 0.0000 | test_iou_background: 0.3295 | learning_rate: 0.1898 | \n"
          ]
        },
        {
          "output_type": "stream",
          "name": "stderr",
          "text": [
            "\r 50%|█████     | 8/16 [00:06<00:06,  1.28it/s]"
          ]
        },
        {
          "output_type": "stream",
          "name": "stdout",
          "text": [
            "Epoch: 8 | train_loss: 1.6056 | train_acc: 0.6351 | train_miou_acc_all: 0.4713 | train_dice_acc: 0.6351 | train_miou_acc_ibg: 0.0007 | train_iou_background: 0.4706 | test_loss: 3.4053 | test_acc: 0.4922 | test_miou_acc_all: 0.3295 | test_dice_acc: 0.4922 | test_miou_acc_ibg: 0.0000 | test_iou_background: 0.3295 | learning_rate: 0.1898 | \n"
          ]
        },
        {
          "output_type": "stream",
          "name": "stderr",
          "text": [
            "\r 56%|█████▋    | 9/16 [00:07<00:05,  1.29it/s]"
          ]
        },
        {
          "output_type": "stream",
          "name": "stdout",
          "text": [
            "Epoch: 9 | train_loss: 1.4860 | train_acc: 0.6825 | train_miou_acc_all: 0.5287 | train_dice_acc: 0.6825 | train_miou_acc_ibg: 0.0001 | train_iou_background: 0.5286 | test_loss: 3.4997 | test_acc: 0.4922 | test_miou_acc_all: 0.3295 | test_dice_acc: 0.4922 | test_miou_acc_ibg: 0.0000 | test_iou_background: 0.3295 | learning_rate: 0.1898 | \n"
          ]
        },
        {
          "output_type": "stream",
          "name": "stderr",
          "text": [
            "\r 62%|██████▎   | 10/16 [00:08<00:04,  1.29it/s]"
          ]
        },
        {
          "output_type": "stream",
          "name": "stdout",
          "text": [
            "Epoch: 10 | train_loss: 1.3096 | train_acc: 0.7701 | train_miou_acc_all: 0.6596 | train_dice_acc: 0.7701 | train_miou_acc_ibg: nan | train_iou_background: nan | test_loss: 3.7877 | test_acc: 0.4922 | test_miou_acc_all: 0.3295 | test_dice_acc: 0.4922 | test_miou_acc_ibg: 0.0000 | test_iou_background: 0.3295 | learning_rate: 0.1898 | \n"
          ]
        },
        {
          "output_type": "stream",
          "name": "stderr",
          "text": [
            "\r 69%|██████▉   | 11/16 [00:08<00:03,  1.29it/s]"
          ]
        },
        {
          "output_type": "stream",
          "name": "stdout",
          "text": [
            "Epoch: 11 | train_loss: 0.7998 | train_acc: 0.8208 | train_miou_acc_all: 0.7068 | train_dice_acc: 0.8208 | train_miou_acc_ibg: 0.0000 | train_iou_background: 0.7068 | test_loss: 4.4616 | test_acc: 0.4922 | test_miou_acc_all: 0.3295 | test_dice_acc: 0.4922 | test_miou_acc_ibg: 0.0000 | test_iou_background: 0.3295 | learning_rate: 0.1898 | \n"
          ]
        },
        {
          "output_type": "stream",
          "name": "stderr",
          "text": [
            "\r 75%|███████▌  | 12/16 [00:09<00:03,  1.28it/s]"
          ]
        },
        {
          "output_type": "stream",
          "name": "stdout",
          "text": [
            "Epoch: 12 | train_loss: 1.6173 | train_acc: 0.7142 | train_miou_acc_all: 0.5774 | train_dice_acc: 0.7142 | train_miou_acc_ibg: 0.0000 | train_iou_background: 0.5774 | test_loss: 2.8523 | test_acc: 0.4922 | test_miou_acc_all: 0.3295 | test_dice_acc: 0.4922 | test_miou_acc_ibg: 0.0000 | test_iou_background: 0.3295 | learning_rate: 0.1898 | \n"
          ]
        },
        {
          "output_type": "stream",
          "name": "stderr",
          "text": [
            "\r 81%|████████▏ | 13/16 [00:10<00:02,  1.28it/s]"
          ]
        },
        {
          "output_type": "stream",
          "name": "stdout",
          "text": [
            "Epoch: 13 | train_loss: 1.3900 | train_acc: 0.7049 | train_miou_acc_all: 0.5485 | train_dice_acc: 0.7049 | train_miou_acc_ibg: 0.0000 | train_iou_background: 0.5485 | test_loss: 3.0658 | test_acc: 0.4922 | test_miou_acc_all: 0.3295 | test_dice_acc: 0.4922 | test_miou_acc_ibg: 0.0000 | test_iou_background: 0.3295 | learning_rate: 0.1898 | \n"
          ]
        },
        {
          "output_type": "stream",
          "name": "stderr",
          "text": [
            "\r 88%|████████▊ | 14/16 [00:11<00:01,  1.28it/s]"
          ]
        },
        {
          "output_type": "stream",
          "name": "stdout",
          "text": [
            "Epoch: 14 | train_loss: 0.7564 | train_acc: 0.8649 | train_miou_acc_all: 0.7711 | train_dice_acc: 0.8649 | train_miou_acc_ibg: nan | train_iou_background: nan | test_loss: 3.1022 | test_acc: 0.4922 | test_miou_acc_all: 0.3295 | test_dice_acc: 0.4922 | test_miou_acc_ibg: 0.0000 | test_iou_background: 0.3295 | learning_rate: 0.1898 | \n"
          ]
        },
        {
          "output_type": "stream",
          "name": "stderr",
          "text": [
            "\r 94%|█████████▍| 15/16 [00:12<00:00,  1.28it/s]"
          ]
        },
        {
          "output_type": "stream",
          "name": "stdout",
          "text": [
            "Epoch: 15 | train_loss: 1.2656 | train_acc: 0.7443 | train_miou_acc_all: 0.6281 | train_dice_acc: 0.7443 | train_miou_acc_ibg: nan | train_iou_background: nan | test_loss: 3.2608 | test_acc: 0.4922 | test_miou_acc_all: 0.3295 | test_dice_acc: 0.4922 | test_miou_acc_ibg: 0.0000 | test_iou_background: 0.3295 | learning_rate: 0.1898 | \n"
          ]
        },
        {
          "output_type": "stream",
          "name": "stderr",
          "text": [
            "100%|██████████| 16/16 [00:12<00:00,  1.25it/s]"
          ]
        },
        {
          "output_type": "stream",
          "name": "stdout",
          "text": [
            "Epoch: 16 | train_loss: 0.7008 | train_acc: 0.8792 | train_miou_acc_all: 0.7921 | train_dice_acc: 0.8792 | train_miou_acc_ibg: nan | train_iou_background: nan | test_loss: 3.5520 | test_acc: 0.4922 | test_miou_acc_all: 0.3295 | test_dice_acc: 0.4922 | test_miou_acc_ibg: 0.0000 | test_iou_background: 0.3295 | learning_rate: 0.1898 | \n",
            "Total training time: 12.822 seconds\n",
            "Version 1084\n",
            "Optimizer Adam\n",
            "Architecture DeepLabV3\n",
            "Network resnet18\n",
            "Batch size 4\n",
            "Learning Rate 0.07683050632476807\n",
            "Momentum 0.9\n",
            "Weight Decay 0.002137165516614914\n",
            "Loss function CrossEntropyLoss\n",
            "Num epochs 21\n",
            "CrossEntropyLoss\n",
            "DeepLabV3 no activation\n"
          ]
        },
        {
          "output_type": "stream",
          "name": "stderr",
          "text": [
            "\n"
          ]
        },
        {
          "output_type": "stream",
          "name": "stdout",
          "text": [
            "adam momentum - weight decay \n"
          ]
        },
        {
          "output_type": "stream",
          "name": "stderr",
          "text": [
            "\r  0%|          | 0/21 [00:00<?, ?it/s]"
          ]
        },
        {
          "output_type": "stream",
          "name": "stdout",
          "text": [
            "Epoch: 1 | train_loss: 6.0110 | train_acc: 0.4774 | train_miou_acc_all: 0.3562 | train_dice_acc: 0.4774 | train_miou_acc_ibg: 0.0001 | train_iou_background: 0.3561 | test_loss: 2514901630976.0000 | test_acc: 0.4922 | test_miou_acc_all: 0.3295 | test_dice_acc: 0.4922 | test_miou_acc_ibg: 0.0000 | test_iou_background: 0.3295 | learning_rate: 0.0768 | \n"
          ]
        },
        {
          "output_type": "stream",
          "name": "stderr",
          "text": [
            " 10%|▉         | 2/21 [00:01<00:18,  1.05it/s]"
          ]
        },
        {
          "output_type": "stream",
          "name": "stdout",
          "text": [
            "Epoch: 2 | train_loss: 3.4043 | train_acc: 0.6379 | train_miou_acc_all: 0.4791 | train_dice_acc: 0.6379 | train_miou_acc_ibg: 0.0000 | train_iou_background: 0.4791 | test_loss: 6691914.8750 | test_acc: 0.4922 | test_miou_acc_all: 0.3295 | test_dice_acc: 0.4922 | test_miou_acc_ibg: 0.0000 | test_iou_background: 0.3295 | learning_rate: 0.0768 | \n"
          ]
        },
        {
          "output_type": "stream",
          "name": "stderr",
          "text": [
            "\r 14%|█▍        | 3/21 [00:02<00:16,  1.12it/s]"
          ]
        },
        {
          "output_type": "stream",
          "name": "stdout",
          "text": [
            "Epoch: 3 | train_loss: 2.1665 | train_acc: 0.8794 | train_miou_acc_all: 0.7961 | train_dice_acc: 0.8794 | train_miou_acc_ibg: nan | train_iou_background: nan | test_loss: 202.2917 | test_acc: 0.4922 | test_miou_acc_all: 0.3295 | test_dice_acc: 0.4922 | test_miou_acc_ibg: 0.0000 | test_iou_background: 0.3295 | learning_rate: 0.0768 | \n"
          ]
        },
        {
          "output_type": "stream",
          "name": "stderr",
          "text": [
            "\r 19%|█▉        | 4/21 [00:03<00:14,  1.18it/s]"
          ]
        },
        {
          "output_type": "stream",
          "name": "stdout",
          "text": [
            "Epoch: 4 | train_loss: 1.7719 | train_acc: 0.7007 | train_miou_acc_all: 0.5502 | train_dice_acc: 0.7007 | train_miou_acc_ibg: 0.0000 | train_iou_background: 0.5502 | test_loss: 4.4833 | test_acc: 0.4922 | test_miou_acc_all: 0.3295 | test_dice_acc: 0.4922 | test_miou_acc_ibg: 0.0000 | test_iou_background: 0.3295 | learning_rate: 0.0768 | \n"
          ]
        },
        {
          "output_type": "stream",
          "name": "stderr",
          "text": [
            "\r 24%|██▍       | 5/21 [00:04<00:13,  1.21it/s]"
          ]
        },
        {
          "output_type": "stream",
          "name": "stdout",
          "text": [
            "Epoch: 5 | train_loss: 1.4006 | train_acc: 0.7568 | train_miou_acc_all: 0.6232 | train_dice_acc: 0.7568 | train_miou_acc_ibg: 0.0000 | train_iou_background: 0.6232 | test_loss: 4.1181 | test_acc: 0.4922 | test_miou_acc_all: 0.3295 | test_dice_acc: 0.4922 | test_miou_acc_ibg: 0.0000 | test_iou_background: 0.3295 | learning_rate: 0.0768 | \n"
          ]
        },
        {
          "output_type": "stream",
          "name": "stderr",
          "text": [
            "\r 29%|██▊       | 6/21 [00:05<00:12,  1.23it/s]"
          ]
        },
        {
          "output_type": "stream",
          "name": "stdout",
          "text": [
            "Epoch: 6 | train_loss: 1.3042 | train_acc: 0.8068 | train_miou_acc_all: 0.7040 | train_dice_acc: 0.8068 | train_miou_acc_ibg: nan | train_iou_background: nan | test_loss: 4.1436 | test_acc: 0.4922 | test_miou_acc_all: 0.3295 | test_dice_acc: 0.4922 | test_miou_acc_ibg: 0.0000 | test_iou_background: 0.3295 | learning_rate: 0.0768 | \n"
          ]
        },
        {
          "output_type": "stream",
          "name": "stderr",
          "text": [
            "\r 33%|███▎      | 7/21 [00:05<00:11,  1.25it/s]"
          ]
        },
        {
          "output_type": "stream",
          "name": "stdout",
          "text": [
            "Epoch: 7 | train_loss: 1.9943 | train_acc: 0.7181 | train_miou_acc_all: 0.5761 | train_dice_acc: 0.7181 | train_miou_acc_ibg: 0.0000 | train_iou_background: 0.5761 | test_loss: 3.0925 | test_acc: 0.4922 | test_miou_acc_all: 0.3295 | test_dice_acc: 0.4922 | test_miou_acc_ibg: 0.0000 | test_iou_background: 0.3295 | learning_rate: 0.0768 | \n"
          ]
        },
        {
          "output_type": "stream",
          "name": "stderr",
          "text": [
            "\r 38%|███▊      | 8/21 [00:06<00:10,  1.26it/s]"
          ]
        },
        {
          "output_type": "stream",
          "name": "stdout",
          "text": [
            "Epoch: 8 | train_loss: 1.0928 | train_acc: 0.9260 | train_miou_acc_all: 0.8714 | train_dice_acc: 0.9260 | train_miou_acc_ibg: nan | train_iou_background: nan | test_loss: 2.7564 | test_acc: 0.4922 | test_miou_acc_all: 0.3295 | test_dice_acc: 0.4922 | test_miou_acc_ibg: 0.0000 | test_iou_background: 0.3295 | learning_rate: 0.0768 | \n"
          ]
        },
        {
          "output_type": "stream",
          "name": "stderr",
          "text": [
            "\r 43%|████▎     | 9/21 [00:07<00:09,  1.27it/s]"
          ]
        },
        {
          "output_type": "stream",
          "name": "stdout",
          "text": [
            "Epoch: 9 | train_loss: 1.4852 | train_acc: 0.7424 | train_miou_acc_all: 0.5996 | train_dice_acc: 0.7424 | train_miou_acc_ibg: 0.0000 | train_iou_background: 0.5996 | test_loss: 2.9419 | test_acc: 0.4922 | test_miou_acc_all: 0.3295 | test_dice_acc: 0.4922 | test_miou_acc_ibg: 0.0000 | test_iou_background: 0.3295 | learning_rate: 0.0768 | \n"
          ]
        },
        {
          "output_type": "stream",
          "name": "stderr",
          "text": [
            "\r 48%|████▊     | 10/21 [00:08<00:08,  1.27it/s]"
          ]
        },
        {
          "output_type": "stream",
          "name": "stdout",
          "text": [
            "Epoch: 10 | train_loss: 1.6560 | train_acc: 0.6688 | train_miou_acc_all: 0.5122 | train_dice_acc: 0.6688 | train_miou_acc_ibg: 0.0043 | train_iou_background: 0.5079 | test_loss: 3.4936 | test_acc: 0.2597 | test_miou_acc_all: 0.1505 | test_dice_acc: 0.2597 | test_miou_acc_ibg: 0.0600 | test_iou_background: 0.0905 | learning_rate: 0.0768 | \n"
          ]
        },
        {
          "output_type": "stream",
          "name": "stderr",
          "text": [
            "\r 52%|█████▏    | 11/21 [00:09<00:07,  1.27it/s]"
          ]
        },
        {
          "output_type": "stream",
          "name": "stdout",
          "text": [
            "Epoch: 11 | train_loss: 0.7609 | train_acc: 0.8424 | train_miou_acc_all: 0.7324 | train_dice_acc: 0.8424 | train_miou_acc_ibg: 0.0000 | train_iou_background: 0.7324 | test_loss: 3.0195 | test_acc: 0.4922 | test_miou_acc_all: 0.3295 | test_dice_acc: 0.4922 | test_miou_acc_ibg: 0.0000 | test_iou_background: 0.3295 | learning_rate: 0.0768 | \n"
          ]
        },
        {
          "output_type": "stream",
          "name": "stderr",
          "text": [
            "\r 57%|█████▋    | 12/21 [00:09<00:07,  1.27it/s]"
          ]
        },
        {
          "output_type": "stream",
          "name": "stdout",
          "text": [
            "Epoch: 12 | train_loss: 2.4232 | train_acc: 0.5204 | train_miou_acc_all: 0.3642 | train_dice_acc: 0.5204 | train_miou_acc_ibg: 0.0198 | train_iou_background: 0.3444 | test_loss: 3.1042 | test_acc: 0.4922 | test_miou_acc_all: 0.3295 | test_dice_acc: 0.4922 | test_miou_acc_ibg: 0.0000 | test_iou_background: 0.3295 | learning_rate: 0.0768 | \n"
          ]
        },
        {
          "output_type": "stream",
          "name": "stderr",
          "text": [
            "\r 62%|██████▏   | 13/21 [00:10<00:06,  1.27it/s]"
          ]
        },
        {
          "output_type": "stream",
          "name": "stdout",
          "text": [
            "Epoch: 13 | train_loss: 1.7319 | train_acc: 0.7411 | train_miou_acc_all: 0.6160 | train_dice_acc: 0.7411 | train_miou_acc_ibg: 0.0000 | train_iou_background: 0.6160 | test_loss: 2.8471 | test_acc: 0.4922 | test_miou_acc_all: 0.3295 | test_dice_acc: 0.4922 | test_miou_acc_ibg: 0.0000 | test_iou_background: 0.3295 | learning_rate: 0.0768 | \n"
          ]
        },
        {
          "output_type": "stream",
          "name": "stderr",
          "text": [
            "\r 67%|██████▋   | 14/21 [00:11<00:05,  1.27it/s]"
          ]
        },
        {
          "output_type": "stream",
          "name": "stdout",
          "text": [
            "Epoch: 14 | train_loss: 1.4258 | train_acc: 0.7565 | train_miou_acc_all: 0.6275 | train_dice_acc: 0.7565 | train_miou_acc_ibg: 0.0000 | train_iou_background: 0.6275 | test_loss: 2.9597 | test_acc: 0.4922 | test_miou_acc_all: 0.3295 | test_dice_acc: 0.4922 | test_miou_acc_ibg: 0.0000 | test_iou_background: 0.3295 | learning_rate: 0.0768 | \n"
          ]
        },
        {
          "output_type": "stream",
          "name": "stderr",
          "text": [
            "\r 71%|███████▏  | 15/21 [00:12<00:04,  1.27it/s]"
          ]
        },
        {
          "output_type": "stream",
          "name": "stdout",
          "text": [
            "Epoch: 15 | train_loss: 1.8183 | train_acc: 0.6564 | train_miou_acc_all: 0.4985 | train_dice_acc: 0.6564 | train_miou_acc_ibg: 0.0000 | train_iou_background: 0.4985 | test_loss: 2.7971 | test_acc: 0.4922 | test_miou_acc_all: 0.3295 | test_dice_acc: 0.4922 | test_miou_acc_ibg: 0.0000 | test_iou_background: 0.3295 | learning_rate: 0.0768 | \n"
          ]
        },
        {
          "output_type": "stream",
          "name": "stderr",
          "text": [
            "\r 76%|███████▌  | 16/21 [00:12<00:03,  1.27it/s]"
          ]
        },
        {
          "output_type": "stream",
          "name": "stdout",
          "text": [
            "Epoch: 16 | train_loss: 1.3014 | train_acc: 0.7485 | train_miou_acc_all: 0.6115 | train_dice_acc: 0.7485 | train_miou_acc_ibg: 0.0000 | train_iou_background: 0.6115 | test_loss: 2.7368 | test_acc: 0.4922 | test_miou_acc_all: 0.3295 | test_dice_acc: 0.4922 | test_miou_acc_ibg: 0.0000 | test_iou_background: 0.3295 | learning_rate: 0.0768 | \n"
          ]
        },
        {
          "output_type": "stream",
          "name": "stderr",
          "text": [
            "\r 81%|████████  | 17/21 [00:13<00:03,  1.25it/s]"
          ]
        },
        {
          "output_type": "stream",
          "name": "stdout",
          "text": [
            "Epoch: 17 | train_loss: 1.7300 | train_acc: 0.7372 | train_miou_acc_all: 0.6226 | train_dice_acc: 0.7372 | train_miou_acc_ibg: nan | train_iou_background: nan | test_loss: 3.2890 | test_acc: 0.4922 | test_miou_acc_all: 0.3295 | test_dice_acc: 0.4922 | test_miou_acc_ibg: 0.0000 | test_iou_background: 0.3295 | learning_rate: 0.0768 | \n"
          ]
        },
        {
          "output_type": "stream",
          "name": "stderr",
          "text": [
            "\r 86%|████████▌ | 18/21 [00:14<00:02,  1.25it/s]"
          ]
        },
        {
          "output_type": "stream",
          "name": "stdout",
          "text": [
            "Epoch: 18 | train_loss: 1.5540 | train_acc: 0.7451 | train_miou_acc_all: 0.6004 | train_dice_acc: 0.7451 | train_miou_acc_ibg: 0.0000 | train_iou_background: 0.6004 | test_loss: 2.8920 | test_acc: 0.4922 | test_miou_acc_all: 0.3295 | test_dice_acc: 0.4922 | test_miou_acc_ibg: 0.0000 | test_iou_background: 0.3295 | learning_rate: 0.0768 | \n"
          ]
        },
        {
          "output_type": "stream",
          "name": "stderr",
          "text": [
            "\r 90%|█████████ | 19/21 [00:15<00:01,  1.24it/s]"
          ]
        },
        {
          "output_type": "stream",
          "name": "stdout",
          "text": [
            "Epoch: 19 | train_loss: 1.4618 | train_acc: 0.7142 | train_miou_acc_all: 0.5557 | train_dice_acc: 0.7142 | train_miou_acc_ibg: 0.0000 | train_iou_background: 0.5557 | test_loss: 2.9609 | test_acc: 0.4922 | test_miou_acc_all: 0.3295 | test_dice_acc: 0.4922 | test_miou_acc_ibg: 0.0000 | test_iou_background: 0.3295 | learning_rate: 0.0768 | \n"
          ]
        },
        {
          "output_type": "stream",
          "name": "stderr",
          "text": [
            "\r 95%|█████████▌| 20/21 [00:16<00:00,  1.23it/s]"
          ]
        },
        {
          "output_type": "stream",
          "name": "stdout",
          "text": [
            "Epoch: 20 | train_loss: 1.3128 | train_acc: 0.7236 | train_miou_acc_all: 0.5729 | train_dice_acc: 0.7236 | train_miou_acc_ibg: 0.0000 | train_iou_background: 0.5729 | test_loss: 3.2964 | test_acc: 0.4922 | test_miou_acc_all: 0.3295 | test_dice_acc: 0.4922 | test_miou_acc_ibg: 0.0000 | test_iou_background: 0.3295 | learning_rate: 0.0768 | \n"
          ]
        },
        {
          "output_type": "stream",
          "name": "stderr",
          "text": [
            "100%|██████████| 21/21 [00:17<00:00,  1.23it/s]"
          ]
        },
        {
          "output_type": "stream",
          "name": "stdout",
          "text": [
            "Epoch: 21 | train_loss: 1.6199 | train_acc: 0.6838 | train_miou_acc_all: 0.5317 | train_dice_acc: 0.6838 | train_miou_acc_ibg: 0.0000 | train_iou_background: 0.5317 | test_loss: 3.2948 | test_acc: 0.4922 | test_miou_acc_all: 0.3295 | test_dice_acc: 0.4922 | test_miou_acc_ibg: 0.0000 | test_iou_background: 0.3295 | learning_rate: 0.0768 | \n",
            "Total training time: 17.076 seconds\n"
          ]
        },
        {
          "output_type": "stream",
          "name": "stderr",
          "text": [
            "\n"
          ]
        }
      ],
      "source": [
        "import torchvision.models as models\n",
        "from torchvision.models.segmentation.deeplabv3 import DeepLabHead\n",
        "\n",
        "#!pip install focal_loss_torch\n",
        "#from focal_loss.focal_loss import FocalLoss\n",
        "\n",
        "!pip install segmentation-models-pytorch\n",
        "import segmentation_models_pytorch as smp\n",
        "\n",
        "from torch.optim.lr_scheduler import StepLR\n",
        "\n",
        "\n",
        "\n",
        "class LogUniform(torch.distributions.TransformedDistribution):\n",
        "    def __init__(self, lb, ub):\n",
        "            lb = torch.tensor(lb)\n",
        "            ub = torch.tensor(ub)\n",
        "            super(LogUniform, self).__init__(torch.distributions.Uniform(lb.log(), ub.log()),\n",
        "                                            torch.distributions.ExpTransform())\n",
        "\n",
        "\n",
        "\n",
        "\"\"\"\n",
        "HYPERPARAMETER SETTINGS\n",
        "\"\"\"\n",
        "\n",
        "\n",
        "class Hyperparameters:\n",
        "    def __init__(self, version_experiment, optimizer, architecture_used, network, batch_size, learning_rate, momentum, weight_decay, loss_function, num_epochs):\n",
        "        self.VERSION_EXPERIMENT = version_experiment\n",
        "        self.OPTIMIZER = optimizer\n",
        "        self.ARCHITECTURE_USED = architecture_used\n",
        "        self.NETWORK = network\n",
        "        self.BATCH_SIZE = batch_size\n",
        "        self.LEARNING_RATE = learning_rate\n",
        "        self.MOMENTUM = momentum\n",
        "        self.WEIGHT_DECAY = weight_decay\n",
        "        self.LOSS_FUNCTION = loss_function\n",
        "        self.NUM_EPOCHS = num_epochs\n",
        "\n",
        "\n",
        "\n",
        "search_space = {\n",
        "      'optimizer': random.choice([\"SGD\", \"Adam\"]),\n",
        "      'architecture_used': random.choice([\"DeepLabV3\"]),\n",
        "      'network' : random.choice([\"resnet18\"]),\n",
        "      'batch_size' : random.choice([4, 8, 16]),\n",
        "      'learning_rate': LogUniform(0.0001, 0.9),\n",
        "      'momentum': random.choice([0.9]),\n",
        "      'weight_decay': LogUniform(0.0001, 0.9),\n",
        "      'loss_function': random.choice([\"CrossEntropyLoss\"]),\n",
        "      'num_epochs': torch.distributions.Categorical(torch.ones(20) / 20), # uniformly sampled /20\n",
        "\n",
        "}\n",
        "\n",
        "\n",
        "\"\"\"\n",
        "From here, the data can be reloaded and variables destroyed to carry out multiple runs\n",
        "\"\"\"\n",
        "FIRST_RUN = True\n",
        "\n",
        "# Number of experiments\n",
        "num_experiments = 5\n",
        "\n",
        "# start index = 1000 to prevent from mixing up with existing output files\n",
        "start_index = 1080\n",
        "\n",
        "for rs_experiment in range(start_index, start_index + num_experiments):\n",
        "\n",
        "  # sample hyperparameters from search space\n",
        "  hyperparams = {k: v.sample().item() +10 if isinstance(v, torch.distributions.Categorical) else v.sample().item() if isinstance(v, LogUniform) else v for k, v in search_space.items()}\n",
        "\n",
        "\n",
        "  hyperparameters = Hyperparameters(\n",
        "      rs_experiment,\n",
        "      hyperparams['optimizer'],\n",
        "      hyperparams['architecture_used'],\n",
        "      hyperparams['network'],\n",
        "      hyperparams['batch_size'],\n",
        "      hyperparams['learning_rate'],\n",
        "      hyperparams['momentum'],\n",
        "      hyperparams['weight_decay'],\n",
        "      hyperparams['loss_function'],\n",
        "      hyperparams['num_epochs'],\n",
        "\n",
        "  )\n",
        "\n",
        "  print(\"Version\", rs_experiment)\n",
        "  print(\"Optimizer\", hyperparams['optimizer'])\n",
        "  print(\"Architecture\", hyperparams['architecture_used'])\n",
        "  print(\"Network\", hyperparams['network'])\n",
        "  print(\"Batch size\", hyperparams['batch_size'])\n",
        "  print(\"Learning Rate\", hyperparams['learning_rate'])\n",
        "  print(\"Momentum\", hyperparams['momentum'])\n",
        "  print(\"Weight Decay\", hyperparams['weight_decay'])\n",
        "  print(\"Loss function\", hyperparams['loss_function'])\n",
        "  print(\"Num epochs\", hyperparams['num_epochs'])\n",
        "\n",
        "\n",
        "  # We create a train_loader by passing the train dataset\n",
        "  train_loader = torch.utils.data.DataLoader(dataset = train_1,\n",
        "                                            batch_size = hyperparameters.BATCH_SIZE,\n",
        "                                            shuffle = True,\n",
        "                                            drop_last=True) #shuffle ensures we traverse images in different order across epochs\n",
        "\n",
        "  # We create a test loader by passing the test dataset\n",
        "  test_loader = torch.utils.data.DataLoader(dataset = test_1,\n",
        "                                            batch_size = hyperparameters.BATCH_SIZE,\n",
        "                                            shuffle = False,\n",
        "                                            drop_last=True) #we don't do shuffle here because we only do 1 forward pass\n",
        "\n",
        "\n",
        "\n",
        "  # Setup loss\n",
        "  if(hyperparameters.LOSS_FUNCTION == \"CrossEntropyLoss\"):\n",
        "      print(\"CrossEntropyLoss\")\n",
        "      loss_fn = nn.CrossEntropyLoss()\n",
        "\n",
        "      if(hyperparameters.ARCHITECTURE_USED == \"DeepLabV3\"):\n",
        "          print(\"DeepLabV3 no activation\")\n",
        "          model = smp.DeepLabV3(encoder_name=hyperparameters.NETWORK,\n",
        "            encoder_depth=5,\n",
        "            encoder_weights='imagenet',\n",
        "            decoder_channels=256,\n",
        "            in_channels=3,\n",
        "            classes=104,\n",
        "            activation=None,\n",
        "            upsampling=8,\n",
        "            aux_params=None)\n",
        "\n",
        "      if(hyperparameters.ARCHITECTURE_USED == \"Unet\"):\n",
        "          print(\"Unet no activation\")\n",
        "          model = smp.Unet(encoder_name=hyperparameters.NETWORK,\n",
        "            encoder_depth=5,\n",
        "            encoder_weights='imagenet',\n",
        "            decoder_use_batchnorm=True,\n",
        "            decoder_channels=(256, 128, 64, 32, 16),\n",
        "            decoder_attention_type=None,\n",
        "            in_channels=3,\n",
        "            classes=104,\n",
        "            activation=None,\n",
        "            aux_params=None)\n",
        "\n",
        "\n",
        "  if(hyperparameters.LOSS_FUNCTION == \"FocalLoss\"):\n",
        "      print(\"FocalLoss\")\n",
        "      loss_fn = smp.losses.FocalLoss(mode='multiclass', gamma=0.7)\n",
        "\n",
        "      if(hyperparameters.ARCHITECTURE_USED == \"DeepLabV3\"):\n",
        "          print(\"DeepLabV3 softmax activation\")\n",
        "          model = smp.DeepLabV3(encoder_name=hyperparameters.NETWORK,\n",
        "            encoder_depth=5,\n",
        "            encoder_weights='imagenet',\n",
        "            decoder_channels=256,\n",
        "            in_channels=3,\n",
        "            classes=104,\n",
        "            activation='softmax',\n",
        "            upsampling=8,\n",
        "            aux_params=None)\n",
        "\n",
        "      if(hyperparameters.ARCHITECTURE_USED == \"Unet\"):\n",
        "          print(\"Unet softmax activation\")\n",
        "          model = smp.Unet(encoder_name=hyperparameters.NETWORK,\n",
        "            encoder_depth=5,\n",
        "            encoder_weights='imagenet',\n",
        "            decoder_use_batchnorm=True,\n",
        "            decoder_channels=(256, 128, 64, 32, 16),\n",
        "            decoder_attention_type=None,\n",
        "            in_channels=3,\n",
        "            classes=104,\n",
        "            activation='softmax',\n",
        "            aux_params=None)\n",
        "\n",
        "\n",
        "  if(hyperparameters.LOSS_FUNCTION == \"DiceLoss\"):\n",
        "      print(\"DiceLoss\")\n",
        "      loss_fn = smp.losses.DiceLoss(mode='multiclass', classes=list(range(1, 104)),\n",
        "                              log_loss=False,\n",
        "                              from_logits=True,\n",
        "                              smooth=0.0,\n",
        "                              ignore_index=None,\n",
        "                              eps=1e-07)\n",
        "\n",
        "\n",
        "      if(hyperparameters.ARCHITECTURE_USED == \"DeepLabV3\"):\n",
        "          print(\"DeepLabV3 softmax activation\")\n",
        "          model = smp.DeepLabV3(encoder_name=hyperparameters.NETWORK,\n",
        "            encoder_depth=5,\n",
        "            encoder_weights='imagenet',\n",
        "            decoder_channels=256,\n",
        "            in_channels=3,\n",
        "            classes=104,\n",
        "            activation='softmax',\n",
        "            upsampling=8,\n",
        "            aux_params=None)\n",
        "\n",
        "      if(hyperparameters.ARCHITECTURE_USED == \"Unet\"):\n",
        "          print(\"Unet softmax activation\")\n",
        "          model = smp.Unet(encoder_name=hyperparameters.NETWORK,\n",
        "            encoder_depth=5,\n",
        "            encoder_weights='imagenet',\n",
        "            decoder_use_batchnorm=True,\n",
        "            decoder_channels=(256, 128, 64, 32, 16),\n",
        "            decoder_attention_type=None,\n",
        "            in_channels=3,\n",
        "            classes=104,\n",
        "            activation='softmax',\n",
        "            aux_params=None)\n",
        "\n",
        "\n",
        "\n",
        "\n",
        "  # Setup optimizer\n",
        "  # SGD\n",
        "  if(hyperparameters.OPTIMIZER == \"SGD\"):\n",
        "\n",
        "      \"\"\"if(hyperparameters.MOMENTUM == None and hyperparameters.WEIGHT_DECAY != None):\n",
        "          print(\"sgd momentum none\")\n",
        "          optimizer = torch.optim.SGD(model.parameters(), lr=hyperparameters.LEARNING_RATE,\n",
        "                                                         weight_decay=hyperparameters.WEIGHT_DECAY)\n",
        "\n",
        "      if(hyperparameters.WEIGHT_DECAY == None and hyperparameters.MOMENTUM != None):\n",
        "          print(\"sgd weight decay none\")\n",
        "          optimizer = torch.optim.SGD(model.parameters(), lr=hyperparameters.LEARNING_RATE,\n",
        "                                                        momentum=hyperparameters.MOMENTUM)\n",
        "\n",
        "      if(hyperparameters.MOMENTUM == None and hyperparameters.WEIGHT_DECAY == None):\n",
        "          print(\"sgd momentum none - weight decay none\")\n",
        "          optimizer = torch.optim.SGD(model.parameters(), lr=hyperparameters.LEARNING_RATE)\n",
        "\n",
        "      if(hyperparameters.MOMENTUM != None and hyperparameters.WEIGHT_DECAY != None):\n",
        "      \"\"\"\n",
        "      optimizer = torch.optim.SGD(model.parameters(), lr=hyperparameters.LEARNING_RATE,\n",
        "                                                          momentum=hyperparameters.MOMENTUM,\n",
        "                                                          weight_decay=hyperparameters.WEIGHT_DECAY)\n",
        "\n",
        "\n",
        "  # ADAM\n",
        "  if(hyperparameters.OPTIMIZER == \"Adam\"):\n",
        "\n",
        "      \"\"\"if(hyperparameters.MOMENTUM == None and hyperparameters.WEIGHT_DECAY != None):\n",
        "          print(\"adam momentum none\")\n",
        "          optimizer = torch.optim.Adam(model.parameters(), lr=hyperparameters.LEARNING_RATE,\n",
        "                                                          betas=(None,0.999),\n",
        "                                                          weight_decay=hyperparameters.WEIGHT_DECAY)\n",
        "\n",
        "\n",
        "\n",
        "      if(hyperparameters.WEIGHT_DECAY == None and hyperparameters.MOMENTUM != None):\n",
        "          print(\"adam weight decay none\")\n",
        "          optimizer = torch.optim.Adam(model.parameters(), lr=hyperparameters.LEARNING_RATE,\n",
        "                                                          betas=(hyperparameters.MOMENTUM,0.999)\n",
        "                                                          )\n",
        "\n",
        "\n",
        "      if(hyperparameters.MOMENTUM == None and hyperparameters.WEIGHT_DECAY == None):\n",
        "          print(\"adam momentum none - weight decay none\")\n",
        "          optimizer = torch.optim.Adam(model.parameters(), lr=hyperparameters.LEARNING_RATE,\n",
        "                                                          betas=(None,0.999))\n",
        "\n",
        "      if(hyperparameters.MOMENTUM != None and hyperparameters.WEIGHT_DECAY != None):\n",
        "      \"\"\"\n",
        "      print(\"adam momentum - weight decay \")\n",
        "      optimizer = torch.optim.Adam(model.parameters(), lr=hyperparameters.LEARNING_RATE,\n",
        "                                                          betas=(hyperparameters.MOMENTUM,0.999),\n",
        "                                                          weight_decay=hyperparameters.WEIGHT_DECAY)\n",
        "\n",
        "\n",
        "\n",
        "\n",
        "  #optimizer = torch.optim.AdamW(model.parameters(), lr=0.001)\n",
        "  #scheduler = StepLR(optimizer, step_size=1, gamma=1)\n",
        "\n",
        "\n",
        "  # Pass the model to the assigned device\n",
        "  model = model.to(device)\n",
        "\n",
        "\n",
        "  # Start the timer\n",
        "  start_time = timer()\n",
        "\n",
        "  model_results = train(model=model,\n",
        "                          train_dataloader=train_loader,\n",
        "                          test_dataloader=test_loader,\n",
        "                          optimizer=optimizer,\n",
        "                          loss_fn=loss_fn,\n",
        "                          epochs=hyperparameters.NUM_EPOCHS,\n",
        "                          hyperparameters=hyperparameters)\n",
        "  end_time = timer()\n",
        "  print(f\"Total training time: {end_time-start_time:.3f} seconds\")\n",
        "\n",
        "  FIRST_RUN = False\n",
        "\n",
        "  if not FIRST_RUN:\n",
        "      del train_loader\n",
        "      del test_loader\n",
        "      del model\n",
        "      del loss_fn\n",
        "      del optimizer\n",
        "      del model_results\n",
        "\n",
        "\n",
        "\n",
        "\n",
        "def plot_loss_curves(results: Dict[str, List[float]]):\n",
        "\n",
        "    # Get the loss values of the results dictionary (training and test)\n",
        "    loss = results['train_loss']\n",
        "    test_loss = results['test_loss']\n",
        "\n",
        "    # Get the accuracy values of the results dictionary (training and test)\n",
        "    accuracy = results['train_acc']\n",
        "    test_accuracy = results['test_acc']\n",
        "\n",
        "    # Get the intersection over union values of the results dictionary (training and test)\n",
        "    train_iou_acc = results['train_iou_acc']\n",
        "    test_iou_acc = results['test_iou_acc']\n",
        "\n",
        "    # Get the dice coefficient values of the results dictionary (training and test)\n",
        "    train_dice_acc = results['train_dice_acc']\n",
        "    test_dice_acc = results['test_dice_acc']\n",
        "\n",
        "\n",
        "    # Figure out how many epochs there were\n",
        "    epochs = range(len(results['train_loss']))\n",
        "\n",
        "    # Setup a plot\n",
        "    plt.figure(figsize=(30, 7))\n",
        "\n",
        "    # Plot loss\n",
        "    plt.subplot(1, 4, 1)\n",
        "    plt.plot(epochs, loss, label='train_loss')\n",
        "    plt.plot(epochs, test_loss, label='test_loss')\n",
        "    plt.title('Loss')\n",
        "    plt.xlabel('Epochs')\n",
        "    plt.legend()\n",
        "\n",
        "    # Plot accuracy\n",
        "    plt.subplot(1, 4, 2)\n",
        "    plt.plot(epochs, accuracy, label='train_accuracy')\n",
        "    plt.plot(epochs, test_accuracy, label='test_accuracy')\n",
        "    plt.title('Accuracy')\n",
        "    plt.xlabel('Epochs')\n",
        "    plt.legend()\n",
        "    #plt.show()\n",
        "\n",
        "    # Plot IOU accuracy\n",
        "    plt.subplot(1, 4, 3)\n",
        "    plt.plot(epochs, train_iou_acc, label='train_iou_accuracy')\n",
        "    plt.plot(epochs, test_iou_acc, label='test_iou_accuracy')\n",
        "    plt.title('IOU Accuracy')\n",
        "    plt.xlabel('Epochs')\n",
        "    plt.legend()\n",
        "    #plt.show()\n",
        "\n",
        "    # Plot sice coefficient accuracy\n",
        "    plt.subplot(1, 4, 4)\n",
        "    plt.plot(epochs, train_dice_acc, label='train_dice_accuracy')\n",
        "    plt.plot(epochs, test_dice_acc, label='test_dice_accuracy')\n",
        "    plt.title('Dice Coeff Accuracy')\n",
        "    plt.xlabel('Epochs')\n",
        "    plt.legend()\n",
        "    plt.show()\n",
        "\n",
        "#plot_loss_curves(model_results)"
      ]
    },
    {
      "cell_type": "code",
      "execution_count": null,
      "metadata": {
        "id": "SBrXnYnYQDA7"
      },
      "outputs": [],
      "source": []
    },
    {
      "cell_type": "code",
      "execution_count": null,
      "metadata": {
        "id": "eervIjdo2Qpi"
      },
      "outputs": [],
      "source": []
    }
  ],
  "metadata": {
    "accelerator": "GPU",
    "colab": {
      "provenance": []
    },
    "kernelspec": {
      "display_name": "Python 3",
      "name": "python3"
    },
    "language_info": {
      "name": "python"
    }
  },
  "nbformat": 4,
  "nbformat_minor": 0
}